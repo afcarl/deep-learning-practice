{
 "cells": [
  {
   "cell_type": "markdown",
   "metadata": {},
   "source": [
    "# Edge Detection \n",
    "This notebook implements edge detection from Coursera Deep learning course"
   ]
  },
  {
   "cell_type": "code",
   "execution_count": 1,
   "metadata": {
    "collapsed": true
   },
   "outputs": [],
   "source": [
    "import tensorflow as tf\n",
    "import numpy as np \n",
    "import matplotlib.pyplot as plt"
   ]
  },
  {
   "cell_type": "markdown",
   "metadata": {},
   "source": [
    "Make Simple images with vertical and horizontal edges"
   ]
  },
  {
   "cell_type": "code",
   "execution_count": 13,
   "metadata": {
    "collapsed": false
   },
   "outputs": [
    {
     "data": {
      "image/png": "[encoded data removed]",
      "text/plain": [
       "<matplotlib.figure.Figure at 0x181f352a20>"
      ]
     },
     "metadata": {},
     "output_type": "display_data"
    }
   ],
   "source": [
    "w = 100\n",
    "h = 100\n",
    "img_vertical = np.zeros(shape=(w, h))\n",
    "img_vertical[:, :int(h/2)] = 255\n",
    "img_horizontal = np.zeros(shape=(w, h))\n",
    "img_horizontal[:int(w/2), :] = 255\n",
    "img_combined = img_vertical.copy()\n",
    "img_combined[:int(w/2), :] = 255\n",
    "\n",
    "fig = plt.figure(figsize=(10, 10))\n",
    "ax1 = fig.add_subplot(131)\n",
    "ax1.imshow(img_vertical, cmap=\"gray\")\n",
    "ax2 = fig.add_subplot(132)\n",
    "ax2.imshow(img_horizontal, cmap=\"gray\")\n",
    "ax3 = fig.add_subplot(133)\n",
    "ax3.imshow(img_combined, cmap=\"gray\")\n",
    "plt.show()"
   ]
  },
  {
   "cell_type": "markdown",
   "metadata": {},
   "source": [
    "Simple Vertical Edge Detection using convolution"
   ]
  },
  {
   "cell_type": "code",
   "execution_count": 3,
   "metadata": {
    "collapsed": true
   },
   "outputs": [],
   "source": [
    "def edge_detect(img, kernel_arr):\n",
    "    # Convert img array into shape of (1, w, h, 1) \n",
    "    # s.t. tensorflow can handle it. \n",
    "    w = img.shape[0]\n",
    "    h = img.shape[1]\n",
    "    img = img.reshape((1, w, h, 1))\n",
    "\n",
    "    #Run convolution on the image array with the filter \n",
    "    img_input = tf.placeholder(dtype=tf.float32, shape=(1, w, h, 1))\n",
    "    kernel = tf.constant(value=kernel_arr)\n",
    "    edge_detected = tf.nn.conv2d(input=img_input, filter=kernel, strides=(1, 1, 1, 1), padding=\"VALID\")\n",
    "    with tf.Session() as sess:\n",
    "        detected = sess.run(edge_detected, feed_dict={img_input: img})\n",
    "        detected = detected/detected.max()*255\n",
    "        return detected[0, :, :, 0]"
   ]
  },
  {
   "cell_type": "markdown",
   "metadata": {},
   "source": [
    "Detect vertical line "
   ]
  },
  {
   "cell_type": "code",
   "execution_count": 8,
   "metadata": {
    "collapsed": false
   },
   "outputs": [
    {
     "data": {
      "image/png": "[encoded data removed]",
      "text/plain": [
       "<matplotlib.figure.Figure at 0x181ee80048>"
      ]
     },
     "metadata": {},
     "output_type": "display_data"
    }
   ],
   "source": [
    "# define 3x3 filter  \n",
    "kernel_ver = np.array([[3, 0, -3]]*3, dtype=\"float32\")\n",
    "kernel_ver = kernel_ver.reshape(3, 3, 1, 1)\n",
    "\n",
    "# run edge detection \n",
    "detected = edge_detect(img_vertical, kernel_ver)\n",
    "\n",
    "# show result \n",
    "fig = plt.figure(figsize=(10, 10))\n",
    "ax1 = fig.add_subplot(121)\n",
    "ax1.imshow(img_vertical, cmap=\"gray\")\n",
    "ax2 = fig.add_subplot(122)\n",
    "ax2.imshow(detected, cmap=\"gray\")\n",
    "plt.show()"
   ]
  },
  {
   "cell_type": "markdown",
   "metadata": {},
   "source": [
    "Detect Horizontal line"
   ]
  },
  {
   "cell_type": "code",
   "execution_count": 17,
   "metadata": {
    "collapsed": false
   },
   "outputs": [
    {
     "data": {
      "image/png": "[encoded data removed]",
      "text/plain": [
       "<matplotlib.figure.Figure at 0x181ef2dac8>"
      ]
     },
     "metadata": {},
     "output_type": "display_data"
    }
   ],
   "source": [
    "# define 3x3 filter  \n",
    "kernel_hor = np.array([[3, 3, 3], [0, 0, 0], [-3, -3, -3]], dtype=\"float32\")\n",
    "kernel_hor = kernel_hor.reshape(3, 3, 1, 1)\n",
    "\n",
    "# run edge detection \n",
    "detected = edge_detect(img_horizontal, kernel_hor)\n",
    "\n",
    "# show result \n",
    "fig = plt.figure(figsize=(10, 10))\n",
    "ax1 = fig.add_subplot(121)\n",
    "ax1.imshow(img_horizontal, cmap=\"gray\")\n",
    "ax2 = fig.add_subplot(122)\n",
    "ax2.imshow(detected, cmap=\"gray\")\n",
    "plt.show()"
   ]
  },
  {
   "cell_type": "code",
   "execution_count": 19,
   "metadata": {
    "collapsed": false
   },
   "outputs": [
    {
     "data": {
      "image/png": "[encoded data removed]",
      "text/plain": [
       "<matplotlib.figure.Figure at 0x181f787198>"
      ]
     },
     "metadata": {},
     "output_type": "display_data"
    }
   ],
   "source": [
    "# run edge detection \n",
    "detected = edge_detect(img_combined, kernel_hor)\n",
    "\n",
    "# show result \n",
    "fig = plt.figure(figsize=(10, 10))\n",
    "ax1 = fig.add_subplot(121)\n",
    "ax1.imshow(img_combined, cmap=\"gray\")\n",
    "ax2 = fig.add_subplot(122)\n",
    "ax2.imshow(detected, cmap=\"gray\")\n",
    "plt.show()"
   ]
  },
  {
   "cell_type": "code",
   "execution_count": 20,
   "metadata": {
    "collapsed": false
   },
   "outputs": [
    {
     "data": {
      "image/png": "[encoded data removed]",
      "text/plain": [
       "<matplotlib.figure.Figure at 0x181ec7eb38>"
      ]
     },
     "metadata": {},
     "output_type": "display_data"
    }
   ],
   "source": [
    "# run edge detection \n",
    "detected = edge_detect(img_combined, kernel_ver)\n",
    "\n",
    "# show result \n",
    "fig = plt.figure(figsize=(10, 10))\n",
    "ax1 = fig.add_subplot(121)\n",
    "ax1.imshow(img_combined, cmap=\"gray\")\n",
    "ax2 = fig.add_subplot(122)\n",
    "ax2.imshow(detected, cmap=\"gray\")\n",
    "plt.show()"
   ]
  },
  {
   "cell_type": "code",
   "execution_count": null,
   "metadata": {
    "collapsed": true
   },
   "outputs": [],
   "source": []
  }
 ],
 "metadata": {
  "anaconda-cloud": {},
  "kernelspec": {
   "display_name": "Python [conda env:anaconda]",
   "language": "python",
   "name": "conda-env-anaconda-py"
  },
  "language_info": {
   "codemirror_mode": {
    "name": "ipython",
    "version": 3
   },
   "file_extension": ".py",
   "mimetype": "text/x-python",
   "name": "python",
   "nbconvert_exporter": "python",
   "pygments_lexer": "ipython3",
   "version": "3.5.2"
  }
 },
 "nbformat": 4,
 "nbformat_minor": 1
}
