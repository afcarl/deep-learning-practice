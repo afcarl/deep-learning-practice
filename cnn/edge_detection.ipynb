{
 "cells": [
  {
   "cell_type": "markdown",
   "metadata": {},
   "source": [
    "# Edge Detection \n",
    "This notebook implements edge detection from Coursera Deep learning course"
   ]
  },
  {
   "cell_type": "code",
   "execution_count": 77,
   "metadata": {
    "collapsed": true
   },
   "outputs": [],
   "source": [
    "import tensorflow as tf\n",
    "import numpy as np \n",
    "import matplotlib.pyplot as plt"
   ]
  },
  {
   "cell_type": "markdown",
   "metadata": {},
   "source": [
    "Make Simple image with vertical edge "
   ]
  },
  {
   "cell_type": "code",
   "execution_count": 115,
   "metadata": {
    "collapsed": false
   },
   "outputs": [
    {
     "data": {
      "image/png": "[encoded data removed]",
      "text/plain": [
       "<matplotlib.figure.Figure at 0x181fe89860>"
      ]
     },
     "metadata": {},
     "output_type": "display_data"
    }
   ],
   "source": [
    "w = 100\n",
    "h = 100\n",
    "img1 = np.zeros(shape=(w, h))\n",
    "img1[:, :int(h/2)] = 255\n",
    "plt.imshow(img1, cmap=\"gray\")\n",
    "plt.show()"
   ]
  },
  {
   "cell_type": "markdown",
   "metadata": {},
   "source": [
    "Simple Vertical Edge Detection using convolution"
   ]
  },
  {
   "cell_type": "code",
   "execution_count": 116,
   "metadata": {
    "collapsed": false
   },
   "outputs": [],
   "source": [
    "# Convert img array into shape of (1, w, h, 1) \n",
    "# s.t. tensorflow can handle it. \n",
    "img1 = img1.reshape((1, w, h, 1))\n",
    "\n",
    "# define 3x3 filter  \n",
    "kernel_arr = np.array([[3, 0, -3]]*3, dtype=\"float32\")\n",
    "kernel_arr = kernel_arr.reshape(3, 3, 1, 1)\n",
    "\n",
    "#Run convolution on the image array with the filter \n",
    "img_input = tf.placeholder(dtype=tf.float32, shape=(1, w, h, 1))\n",
    "kernel = tf.constant(value=kernel_arr)\n",
    "edge_detected = tf.nn.conv2d(input=img_input, filter=kernel, strides=(1, 1, 1, 1), padding=\"VALID\")\n",
    "with tf.Session() as sess:\n",
    "    detected = sess.run(edge_detected, feed_dict={img_input: img1})\n",
    "    detected = detected/detected.max()*255\n",
    "    detected = detected[0, :, :, 0]"
   ]
  },
  {
   "cell_type": "code",
   "execution_count": 117,
   "metadata": {
    "collapsed": false
   },
   "outputs": [
    {
     "data": {
      "image/png": "[encoded data removed]",
      "text/plain": [
       "<matplotlib.figure.Figure at 0x181fadb7f0>"
      ]
     },
     "metadata": {},
     "output_type": "display_data"
    }
   ],
   "source": [
    "plt.imshow(detected, cmap=\"gray\")\n",
    "plt.show()"
   ]
  },
  {
   "cell_type": "code",
   "execution_count": null,
   "metadata": {
    "collapsed": true
   },
   "outputs": [],
   "source": []
  }
 ],
 "metadata": {
  "anaconda-cloud": {},
  "kernelspec": {
   "display_name": "Python [conda env:anaconda]",
   "language": "python",
   "name": "conda-env-anaconda-py"
  },
  "language_info": {
   "codemirror_mode": {
    "name": "ipython",
    "version": 3
   },
   "file_extension": ".py",
   "mimetype": "text/x-python",
   "name": "python",
   "nbconvert_exporter": "python",
   "pygments_lexer": "ipython3",
   "version": "3.5.2"
  }
 },
 "nbformat": 4,
 "nbformat_minor": 1
}
