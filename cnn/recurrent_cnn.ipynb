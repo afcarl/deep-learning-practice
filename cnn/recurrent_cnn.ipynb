{
 "cells": [
  {
   "cell_type": "markdown",
   "metadata": {},
   "source": [
    "# Recurrent Convolutional Neural Network for Object recognition"
   ]
  },
  {
   "cell_type": "markdown",
   "metadata": {},
   "source": [
    "Implementation of simple rcnn using mnist"
   ]
  },
  {
   "cell_type": "code",
   "execution_count": 1,
   "metadata": {},
   "outputs": [],
   "source": [
    "import tensorflow as tf"
   ]
  },
  {
   "cell_type": "code",
   "execution_count": 2,
   "metadata": {},
   "outputs": [
    {
     "name": "stdout",
     "output_type": "stream",
     "text": [
      "Extracting ../MNIST_data/train-images-idx3-ubyte.gz\n",
      "Extracting ../MNIST_data/train-labels-idx1-ubyte.gz\n",
      "Extracting ../MNIST_data/t10k-images-idx3-ubyte.gz\n",
      "Extracting ../MNIST_data/t10k-labels-idx1-ubyte.gz\n"
     ]
    }
   ],
   "source": [
    "from tensorflow.examples.tutorials.mnist import input_data\n",
    "mnist = input_data.read_data_sets('../MNIST_data', validation_size=0, one_hot=True)"
   ]
  },
  {
   "cell_type": "code",
   "execution_count": 3,
   "metadata": {},
   "outputs": [],
   "source": [
    "batch_size = 100"
   ]
  },
  {
   "cell_type": "code",
   "execution_count": 4,
   "metadata": {},
   "outputs": [],
   "source": [
    "def define_inputs():\n",
    "    x = tf.placeholder(dtype=tf.float32, shape=[batch_size, 28, 28, 1])\n",
    "    y_ = tf.placeholder(dtype=tf.float32, shape=[batch_size, 10])\n",
    "    keep_prob = tf.placeholder(dtype=tf.float32)\n",
    "    return x, y_, keep_prob"
   ]
  },
  {
   "cell_type": "markdown",
   "metadata": {},
   "source": [
    "### Recurrent Convolutional Layer (RCL)"
   ]
  },
  {
   "cell_type": "code",
   "execution_count": 85,
   "metadata": {},
   "outputs": [],
   "source": [
    "def rcl(u, filters, kernel_size, name, timesteps=4):\n",
    "    \n",
    "    assert timesteps > 0, \"timesteps should be greater than 0\"\n",
    "    \n",
    "    with tf.variable_scope(name):\n",
    "        wf_u = tf.layers.conv2d(inputs=u, filters=filters, kernel_size=kernel_size, \n",
    "                                padding=\"same\", name=\"wf_u\")\n",
    "        wr = lambda x, reuse: tf.layers.conv2d(inputs=x, filters=filters, kernel_size=kernel_size, \n",
    "                                               padding=\"same\", name=\"wr_x\", reuse=reuse)\n",
    "        bias = tf.get_variable(name=\"bias\", shape=wf_u.get_shape())\n",
    "#         activ = lambda z: tf.nn.local_response_normalization(tf.nn.relu(z), name=\"activ\")\n",
    "        activ = lambda z: tf.nn.relu(tf.layers.batch_normalization(z), name=\"activ\")\n",
    "\n",
    "        def rcl_step(state, timestep):\n",
    "            print(\"rcl_step\")\n",
    "            if timestep == 0:\n",
    "                print(\"rcl_building 0\")\n",
    "                state_new = activ(wf_u + bias)\n",
    "                print(\"in\", state_new)\n",
    "            elif timestep == 1:\n",
    "                print(\"rcl_building 1\")\n",
    "                state_new = activ(wf_u + wr(state, reuse=False) + bias)\n",
    "            else:\n",
    "                print(\"rcl_building 2\")\n",
    "                state_new = activ(wf_u + wr(state, reuse=True) + bias)\n",
    "            return state_new\n",
    "\n",
    "        state_t = None\n",
    "        print(\"start loop\")\n",
    "        for t in range(timesteps):\n",
    "            print(\"loo\", t)\n",
    "            state_new = rcl_step(state_t, t)\n",
    "            state_t = state_new\n",
    "        \n",
    "        print(state_t)\n",
    "        return state_t"
   ]
  },
  {
   "cell_type": "code",
   "execution_count": 89,
   "metadata": {},
   "outputs": [
    {
     "name": "stdout",
     "output_type": "stream",
     "text": [
      "start loop\n",
      "loo 0\n",
      "rcl_step\n",
      "rcl_building 0\n",
      "in Tensor(\"rcl1/activ:0\", shape=(100, 28, 28, 64), dtype=float32)\n",
      "loo 1\n",
      "rcl_step\n",
      "rcl_building 1\n",
      "loo 2\n",
      "rcl_step\n",
      "rcl_building 2\n",
      "loo 3\n",
      "rcl_step\n",
      "rcl_building 2\n",
      "Tensor(\"rcl1/activ_3:0\", shape=(100, 28, 28, 64), dtype=float32)\n"
     ]
    }
   ],
   "source": [
    "tf.reset_default_graph()\n",
    "x, y_, keep_prob = define_inputs()\n",
    "conv1 = rcl(x, filters=64, kernel_size=3, name=\"rcl1\", timesteps=4)\n",
    "pool_1 = tf.layers.max_pooling2d(conv1, pool_size=2, strides=2)\n",
    "\n",
    "conv2 = tf.layers.conv2d(inputs=pool_1, filters=64, kernel_size=5, \n",
    "                         padding=\"same\", activation=tf.nn.relu)\n",
    "\n",
    "pool = tf.layers.max_pooling2d(conv2, pool_size=2, strides=2, name=\"my_pool2\")\n",
    "\n",
    "flat = tf.layers.flatten(pool, name=\"my_flat\")\n",
    "fc = tf.layers.dense(flat, units=1024, activation=tf.nn.relu, name=\"my_fc\")\n",
    "drop = tf.layers.dropout(fc, rate=keep_prob, name=\"my_drop\")\n",
    "logit = tf.layers.dense(drop, units=10, name=\"my_logit\")\n",
    "\n",
    "cross_entropy = tf.reduce_mean(tf.nn.softmax_cross_entropy_with_logits(labels=y_, logits=logit, name=\"sfce\"), name=\"cross\")\n",
    "\n",
    "tf.summary.scalar(name=\"xentro\", tensor=cross_entropy)\n",
    "\n",
    "train_step = tf.train.AdamOptimizer(0.0001, beta1=0.9, name=\"my_adam\").minimize(cross_entropy, name=\"adam_min\")\n",
    "correct_prediction = tf.equal(tf.argmax(logit,1), tf.argmax(y_,1), name=\"correct_pred\")\n",
    "accuracy = tf.reduce_mean(tf.cast(correct_prediction, tf.float32), name=\"my_acc\")\n",
    "train_acc = []"
   ]
  },
  {
   "cell_type": "code",
   "execution_count": 92,
   "metadata": {},
   "outputs": [],
   "source": [
    "def train_model():\n",
    "    with tf.Session() as sess:\n",
    "        \n",
    "        train_writer = tf.summary.FileWriter('./train', sess.graph)\n",
    "         \n",
    "        sess.run(tf.global_variables_initializer())\n",
    "        \n",
    "        for i in range(2000):\n",
    "            batch = mnist.train.next_batch(batch_size)\n",
    "            imgs = batch[0].reshape(batch_size, 28, 28, 1)\n",
    "            labels = batch[1]\n",
    "            if i%100 == 0:\n",
    "                train_accuracy = accuracy.eval(feed_dict={x:imgs, y_: labels, keep_prob: 1})\n",
    "                train_acc.append(train_accuracy)\n",
    "                print(\"step %d, training accuracy %g\"%(i, train_accuracy))\n",
    "            train_step.run(feed_dict={x: imgs, y_: batch[1], keep_prob: 0.5})\n",
    "        \n",
    "        test_acc = 0\n",
    "        for j in range(1000):\n",
    "            batch_test = mnist.test.next_batch(batch_size)\n",
    "            imgs_test = batch[0].reshape(-1, 28, 28, 1)\n",
    "            labels_test = batch[1]\n",
    "            test_acc += accuracy.eval(\n",
    "                feed_dict={x: imgs_test, y_: labels_test, keep_prob: 1})\n",
    "        test_acc = test_acc/1000\n",
    "        print(\"test accuracy: {0:.4}\".format(test_acc))\n",
    "    \n",
    "    return test_acc "
   ]
  },
  {
   "cell_type": "code",
   "execution_count": 93,
   "metadata": {},
   "outputs": [
    {
     "name": "stdout",
     "output_type": "stream",
     "text": [
      "step 0, training accuracy 0.04\n",
      "step 100, training accuracy 0.98\n",
      "step 200, training accuracy 0.96\n",
      "step 300, training accuracy 0.96\n",
      "step 400, training accuracy 0.95\n",
      "step 500, training accuracy 1\n",
      "step 600, training accuracy 0.96\n",
      "step 700, training accuracy 0.98\n",
      "step 800, training accuracy 0.99\n",
      "step 900, training accuracy 0.98\n",
      "step 1000, training accuracy 0.98\n",
      "step 1100, training accuracy 0.99\n",
      "step 1200, training accuracy 0.98\n",
      "step 1300, training accuracy 0.98\n",
      "step 1400, training accuracy 1\n",
      "step 1500, training accuracy 1\n",
      "step 1600, training accuracy 1\n",
      "step 1700, training accuracy 0.98\n",
      "step 1800, training accuracy 1\n",
      "step 1900, training accuracy 1\n",
      "test accuracy: 0.98\n"
     ]
    },
    {
     "data": {
      "text/plain": [
       "0.98000001907348633"
      ]
     },
     "execution_count": 93,
     "metadata": {},
     "output_type": "execute_result"
    }
   ],
   "source": [
    "train_model()"
   ]
  },
  {
   "cell_type": "code",
   "execution_count": null,
   "metadata": {},
   "outputs": [],
   "source": []
  },
  {
   "cell_type": "code",
   "execution_count": null,
   "metadata": {},
   "outputs": [],
   "source": []
  }
 ],
 "metadata": {
  "anaconda-cloud": {},
  "kernelspec": {
   "display_name": "Python 3",
   "language": "python",
   "name": "python3"
  },
  "language_info": {
   "codemirror_mode": {
    "name": "ipython",
    "version": 3
   },
   "file_extension": ".py",
   "mimetype": "text/x-python",
   "name": "python",
   "nbconvert_exporter": "python",
   "pygments_lexer": "ipython3",
   "version": "3.5.2"
  }
 },
 "nbformat": 4,
 "nbformat_minor": 1
}
