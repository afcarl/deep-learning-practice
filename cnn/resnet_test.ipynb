{
 "cells": [
  {
   "cell_type": "markdown",
   "metadata": {},
   "source": [
    "# ResNet Test\n",
    "I will build deep plain CNN to check how the number of layers affect the accuracy of models. Then, I will implement ResNet to see if it really improves accuracies of different models. "
   ]
  },
  {
   "cell_type": "markdown",
   "metadata": {},
   "source": [
    "I will use MNIST dataset for this simple test "
   ]
  },
  {
   "cell_type": "code",
   "execution_count": 1,
   "metadata": {
    "collapsed": true
   },
   "outputs": [],
   "source": [
    "import tensorflow as tf\n",
    "import numpy as np\n",
    "import matplotlib.pyplot as plt"
   ]
  },
  {
   "cell_type": "code",
   "execution_count": 2,
   "metadata": {
    "collapsed": false
   },
   "outputs": [
    {
     "name": "stdout",
     "output_type": "stream",
     "text": [
      "Extracting ../MNIST_data/train-images-idx3-ubyte.gz\n",
      "Extracting ../MNIST_data/train-labels-idx1-ubyte.gz\n",
      "Extracting ../MNIST_data/t10k-images-idx3-ubyte.gz\n",
      "Extracting ../MNIST_data/t10k-labels-idx1-ubyte.gz\n"
     ]
    }
   ],
   "source": [
    "from tensorflow.examples.tutorials.mnist import input_data\n",
    "mnist = input_data.read_data_sets('../MNIST_data', validation_size=0, one_hot=True)"
   ]
  },
  {
   "cell_type": "markdown",
   "metadata": {},
   "source": [
    "Define method to build plain cnn model "
   ]
  },
  {
   "cell_type": "code",
   "execution_count": 39,
   "metadata": {
    "collapsed": true
   },
   "outputs": [],
   "source": [
    "def define_inputs():\n",
    "    x = tf.placeholder(dtype=tf.float32, shape=[None, 28, 28, 1])\n",
    "    y_ = tf.placeholder(dtype=tf.float32, shape=[None, 10])\n",
    "    keep_prob = tf.placeholder(dtype=tf.float32, shape=())\n",
    "    return x, y_, keep_prob"
   ]
  },
  {
   "cell_type": "code",
   "execution_count": 40,
   "metadata": {
    "collapsed": true
   },
   "outputs": [],
   "source": [
    "def define_model(x, n_duplication, n_mid_layers, keep_prob):\n",
    "    assert n_mid_layers % n_duplication == 0\n",
    "    \n",
    "    # 28 x 28 x 1 input \n",
    "    # for simplicity, the first layer is always the same\n",
    "    layer1 = tf.layers.conv2d(x, filters=32, kernel_size=3, padding=\"same\", activation=tf.nn.relu)\n",
    "    layer1 = tf.layers.max_pooling2d(layer1, pool_size=2, strides=2)\n",
    "    \n",
    "    # 14 x 14 x 8\n",
    "    layer_mid = tf.layers.conv2d(layer1, filters=32, kernel_size=3, padding=\"same\", activation=tf.nn.relu)\n",
    "    # 14 x 14 x 8\n",
    "    layer_mid = tf.layers.conv2d(layer_mid, filters=64, kernel_size=3, padding=\"same\", activation=tf.nn.relu)\n",
    "    \n",
    "    # 14 x 14 x 16\n",
    "    # 14 x 14 x 16\n",
    "\n",
    "    # last pooling\n",
    "    layer_pooling = tf.layers.max_pooling2d(layer_mid, pool_size=2, strides=2)\n",
    "    # now, 7 x 7 x 8\n",
    "    \n",
    "    # for simplicity, the last layer is always the same \n",
    "    layer_flatten = tf.reshape(layer_pooling, shape=[-1, 7*7*64])\n",
    "    layer_last = tf.layers.dense(layer_flatten, units=1024, activation=tf.nn.relu)\n",
    "    layer_last = tf.nn.dropout(layer_last, keep_prob=keep_prob)\n",
    "    logit = tf.layers.dense(layer_last, units=10, activation=None)\n",
    "    \n",
    "    return logit"
   ]
  },
  {
   "cell_type": "code",
   "execution_count": 43,
   "metadata": {
    "collapsed": false
   },
   "outputs": [
    {
     "name": "stdout",
     "output_type": "stream",
     "text": [
      "step 0, training accuracy 0.06\n",
      "step 100, training accuracy 0.88\n",
      "step 200, training accuracy 0.96\n",
      "step 300, training accuracy 0.88\n",
      "step 400, training accuracy 0.98\n",
      "step 500, training accuracy 0.98\n",
      "step 600, training accuracy 0.98\n",
      "step 700, training accuracy 1\n",
      "step 800, training accuracy 0.96\n",
      "step 900, training accuracy 0.98\n",
      "step 1000, training accuracy 0.96\n",
      "step 1100, training accuracy 0.98\n",
      "step 1200, training accuracy 1\n",
      "step 1300, training accuracy 0.98\n",
      "step 1400, training accuracy 0.94\n",
      "step 1500, training accuracy 1\n",
      "step 1600, training accuracy 0.98\n",
      "step 1700, training accuracy 0.94\n",
      "step 1800, training accuracy 0.96\n",
      "step 1900, training accuracy 0.98\n",
      "step 2000, training accuracy 0.98\n",
      "step 2100, training accuracy 0.98\n",
      "step 2200, training accuracy 1\n",
      "step 2300, training accuracy 0.94\n",
      "step 2400, training accuracy 1\n",
      "step 2500, training accuracy 0.98\n",
      "step 2600, training accuracy 0.96\n",
      "step 2700, training accuracy 1\n",
      "step 2800, training accuracy 1\n",
      "step 2900, training accuracy 1\n",
      "test accuracy 0.9857\n"
     ]
    }
   ],
   "source": [
    "x, y_, keep_prob = define_inputs()\n",
    "logit = define_model(x, n_duplication=1, n_mid_layers=1, keep_prob=keep_prob)\n",
    "\n",
    "cross_entropy = tf.reduce_mean(tf.nn.softmax_cross_entropy_with_logits(labels=y_, logits=logit))\n",
    "train_step = tf.train.AdamOptimizer(1e-4).minimize(cross_entropy)\n",
    "correct_prediction = tf.equal(tf.argmax(logit,1), tf.argmax(y_,1))\n",
    "accuracy = tf.reduce_mean(tf.cast(correct_prediction, tf.float32))\n",
    "\n",
    "with tf.Session() as sess:\n",
    "    sess.run(tf.global_variables_initializer())\n",
    "    for i in range(3000):\n",
    "        batch = mnist.train.next_batch(50)\n",
    "        imgs = batch[0].reshape(-1, 28, 28, 1)\n",
    "        labels = batch[1]\n",
    "        if i%100 == 0:\n",
    "            train_accuracy = accuracy.eval(feed_dict={x:imgs, y_: labels, keep_prob: 1})\n",
    "            print(\"step %d, training accuracy %g\"%(i, train_accuracy))\n",
    "        train_step.run(feed_dict={x: imgs, y_: batch[1], keep_prob: 0.5})\n",
    "\n",
    "    print(\"test accuracy %g\"%accuracy.eval(feed_dict={x: mnist.test.images.reshape(-1, 28, 28, 1), y_: mnist.test.labels, keep_prob: 1}))"
   ]
  },
  {
   "cell_type": "code",
   "execution_count": null,
   "metadata": {
    "collapsed": true
   },
   "outputs": [],
   "source": []
  }
 ],
 "metadata": {
  "anaconda-cloud": {},
  "kernelspec": {
   "display_name": "Python [conda root]",
   "language": "python",
   "name": "conda-root-py"
  },
  "language_info": {
   "codemirror_mode": {
    "name": "ipython",
    "version": 3
   },
   "file_extension": ".py",
   "mimetype": "text/x-python",
   "name": "python",
   "nbconvert_exporter": "python",
   "pygments_lexer": "ipython3",
   "version": "3.5.2"
  }
 },
 "nbformat": 4,
 "nbformat_minor": 1
}
