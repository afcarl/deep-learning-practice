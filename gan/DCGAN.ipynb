{
 "cells": [
  {
   "cell_type": "markdown",
   "metadata": {},
   "source": [
    "# Deep Convolutional GANs"
   ]
  },
  {
   "cell_type": "code",
   "execution_count": 1,
   "metadata": {},
   "outputs": [],
   "source": [
    "import tensorflow as tf\n",
    "import numpy as np\n",
    "import matplotlib.pyplot as plt"
   ]
  },
  {
   "cell_type": "code",
   "execution_count": 2,
   "metadata": {},
   "outputs": [
    {
     "name": "stdout",
     "output_type": "stream",
     "text": [
      "Extracting ../MNIST_data/train-images-idx3-ubyte.gz\n",
      "Extracting ../MNIST_data/train-labels-idx1-ubyte.gz\n",
      "Extracting ../MNIST_data/t10k-images-idx3-ubyte.gz\n",
      "Extracting ../MNIST_data/t10k-labels-idx1-ubyte.gz\n"
     ]
    }
   ],
   "source": [
    "from tensorflow.examples.tutorials.mnist import input_data\n",
    "mnist = input_data.read_data_sets('../MNIST_data', validation_size=0)"
   ]
  },
  {
   "cell_type": "code",
   "execution_count": 3,
   "metadata": {},
   "outputs": [
    {
     "data": {
      "image/png": "[encoded data removed]",
      "text/plain": [
       "<matplotlib.figure.Figure at 0x7f2f96eb2d68>"
      ]
     },
     "metadata": {},
     "output_type": "display_data"
    }
   ],
   "source": [
    "img = mnist.train.images[2]\n",
    "img = img.reshape((28, 28))\n",
    "plt.imshow(img, cmap=\"Greys_r\")\n",
    "plt.show()"
   ]
  },
  {
   "cell_type": "markdown",
   "metadata": {},
   "source": [
    "### Define handy functions \n",
    "Here, I define handy functions to be used to build the generator and the discriminator. "
   ]
  },
  {
   "cell_type": "code",
   "execution_count": 4,
   "metadata": {},
   "outputs": [],
   "source": [
    "def leaky_relu(x, alpha=0.2):\n",
    "    return tf.maximum(x * alpha, x)\n",
    "\n",
    "def conv2d(x, W_size, name, strides=[1, 1, 1, 1]):\n",
    "    \"\"\"\n",
    "    make conv layer\n",
    "    \n",
    "    :param x: input to conv layer. the size must match with W_size. \n",
    "    :param W_size: list. [filter_width, filter_height, input_channel, output_channel]\n",
    "    :param strides: list of strides of each dimension as follows. [batch, width, height, channel] \n",
    "    :return: returns conv layer with bias b added. \n",
    "    \"\"\"\n",
    "    W = tf.get_variable(shape=W_size, name=name+\"/weight\")\n",
    "    b = tf.get_variable(shape=W_size[3], name=name+\"/bias\")\n",
    "    conv = tf.nn.conv2d(input=x, filter=W, strides=strides, padding=\"SAME\")\n",
    "    return conv + b"
   ]
  },
  {
   "cell_type": "markdown",
   "metadata": {},
   "source": [
    "### Define inputs. \n",
    "There are two inputs needed; one is real image input for discriminator, and one is random noise input for generator. <br>\n",
    "Real image input is denoted as x, and random noise is z. "
   ]
  },
  {
   "cell_type": "code",
   "execution_count": 5,
   "metadata": {},
   "outputs": [],
   "source": [
    "def initialize_inputs(x_size, z_size):\n",
    "    \"\"\"\n",
    "    initialize inputs x and z. \n",
    "    \n",
    "    x is for real data, and z is for random noise for generator. \n",
    "    \n",
    "    :param z_size: size of z vector\n",
    "    :return x and z \n",
    "    \"\"\"\n",
    "    x = tf.placeholder(dtype=tf.float32, shape=[None, *x_size], name=\"input_real\")\n",
    "    z = tf.placeholder(dtype=tf.float32, shape=[None, z_size], name=\"input_z\")\n",
    "    \n",
    "    return x, z"
   ]
  },
  {
   "cell_type": "markdown",
   "metadata": {
    "collapsed": true
   },
   "source": [
    "### Generator \n",
    "Define a generator. <br>\n",
    "In the conv layer, I will use image resizing to avoid checker board pattern. <br>\n",
    "ref: https://distill.pub/2016/deconv-checkerboard/\n"
   ]
  },
  {
   "cell_type": "code",
   "execution_count": 6,
   "metadata": {},
   "outputs": [],
   "source": [
    "def generator(z, z_size, reuse=False, training=True):\n",
    "    \"\"\"\n",
    "    :param z: a vector with length z_size, where every elements of z is between -1 and 1\n",
    "    :param z_size: length of the z vector\n",
    "    :param reuse: boolean. whether to reuse the trained variable of weights. \n",
    "    :param training: boolean. whether it is training or not\n",
    "    :return: creates generator and return the logits and model\n",
    "    \"\"\"\n",
    "    with tf.variable_scope(\"generator\", reuse=reuse):\n",
    "        # layer 1: fully connected layer \n",
    "        # change the length of z such that it fits to conv layer \n",
    "        W_fc1 = tf.get_variable(shape=[z_size, 7*7*128], name=\"fc_weight\")\n",
    "        b_fc1 = tf.get_variable(shape=7*7*128, name=\"fc_bias\")\n",
    "        h_fc1 = tf.matmul(z, W_fc1) + b_fc1\n",
    "        # now, (7*7*128, )\n",
    "\n",
    "        # layer 2: reshape layer \n",
    "        reshape2 = tf.reshape(h_fc1, shape=[-1, 7, 7, 128])\n",
    "        # now, 7 x 7 x 128\n",
    "        batch_norm2 = tf.layers.batch_normalization(reshape2, training=training)\n",
    "        relu2 = leaky_relu(batch_norm2)\n",
    "\n",
    "        # layer 3: conv layer \n",
    "        resize3 = tf.image.resize_nearest_neighbor(images=relu2, size=(14, 14))\n",
    "        # now, 14 x 14 x 128\n",
    "        conv3 = conv2d(x=resize3, W_size=[5, 5, 128, 64], name=\"conv3\")\n",
    "        # now, 14 x 14 x 64\n",
    "        batch_norm3 = tf.layers.batch_normalization(conv3, training=training)\n",
    "        relu3 = leaky_relu(batch_norm3)\n",
    "\n",
    "        # layer 4: conv layer \n",
    "        resize4 = tf.image.resize_nearest_neighbor(images=relu3, size=(28, 28))\n",
    "        # now, 28 x 28 x 64\n",
    "        conv4 = conv2d(x=resize4, W_size=[5, 5, 64, 32], name=\"conv4\")\n",
    "        # now, 28 x 28 x 32\n",
    "        batch_norm4 = tf.layers.batch_normalization(conv4, training=training)\n",
    "        relu4 = leaky_relu(batch_norm4)\n",
    "        \n",
    "        # layer 5: output layer \n",
    "        logits = conv2d(x=relu4, W_size=[5, 5, 32, 1], name=\"output\")\n",
    "        model = tf.tanh(logits)\n",
    "        \n",
    "        return logits, model\n",
    "    "
   ]
  },
  {
   "cell_type": "markdown",
   "metadata": {},
   "source": [
    "### Discriminator \n",
    "Defining discriminator "
   ]
  },
  {
   "cell_type": "code",
   "execution_count": 7,
   "metadata": {},
   "outputs": [],
   "source": [
    "def discriminator(x, reuse=False, training=True):\n",
    "    \"\"\"\n",
    "    :param x: list [None, 28, 28, 1], where every element is between -1 and 1\n",
    "    :param reuse: boolean. whether to reuse the trained variable of weights. \n",
    "    :param training: boolean. whether it is training or not\n",
    "    :return: creates discriminator and returns logits and model \n",
    "    \"\"\"\n",
    "    with tf.variable_scope(\"discriminator\", reuse=reuse):\n",
    "        # layer 1: conv layer \n",
    "        conv1 = conv2d(x=x, W_size=[5, 5, 1, 64], strides=[1, 2, 2, 1], name=\"conv1\")\n",
    "        # now, 14 x 14 x 64\n",
    "        relu1 = leaky_relu(conv1)\n",
    "        \n",
    "        # layer 2: conv layer \n",
    "        conv2 = conv2d(x=relu1, W_size=[5, 5, 64, 128], strides=[1, 2, 2, 1], name=\"conv2\")\n",
    "        # now, 7 x 7 x 128\n",
    "        batch_norm2 = tf.layers.batch_normalization(conv2, training=training)\n",
    "        relu2 = leaky_relu(batch_norm2)\n",
    "        \n",
    "        # layer 3: reshape \n",
    "        reshape3 = tf.reshape(relu2, shape=[-1, 7*7*128])\n",
    "        \n",
    "        # layer 4: fc layer \n",
    "        W_fc4 = tf.get_variable(shape=[7*7*128, 1], name=\"fc_weight\")\n",
    "        b_fc4 = tf.get_variable(shape=[1], name=\"fc_bias\")\n",
    "        logits = tf.matmul(reshape3, W_fc4) + b_fc4\n",
    "        # now, (1, )\n",
    "        model = tf.nn.sigmoid(logits)\n",
    "        \n",
    "        return logits, model"
   ]
  },
  {
   "cell_type": "markdown",
   "metadata": {},
   "source": [
    "### Loss function \n",
    "Define loss function. "
   ]
  },
  {
   "cell_type": "code",
   "execution_count": 8,
   "metadata": {},
   "outputs": [],
   "source": [
    "def loss(x, z, z_size):\n",
    "    \"\"\"\n",
    "    define the loss functions of discriminator and generator \n",
    "    \n",
    "    :param x: real image\n",
    "    :param z: random noize z \n",
    "    :param z_size: size of random noise \n",
    "    :return: d_loss, g_loss\n",
    "    \"\"\"\n",
    "    # generate fake images \n",
    "    g_logits, g_model = generator(z=z, z_size=z_size)\n",
    "    # using real and fake images, get outputs of discriminator  \n",
    "    d_real_logits, d_real_model = discriminator(x=x)\n",
    "    d_fake_logits, d_fake_model = discriminator(x=g_model, reuse=True)\n",
    "    \n",
    "    # define discriminator loss\n",
    "    d_real_loss = tf.reduce_mean(\n",
    "        tf.nn.sigmoid_cross_entropy_with_logits(logits=d_real_logits, labels=tf.ones_like(d_real_logits)))\n",
    "    d_fake_loss = tf.reduce_mean(\n",
    "        tf.nn.sigmoid_cross_entropy_with_logits(logits=d_fake_logits, labels=tf.zeros_like(d_fake_logits)))\n",
    "    d_loss = d_real_loss + d_fake_loss\n",
    "    \n",
    "    # define generator loss\n",
    "    g_loss = tf.reduce_mean(\n",
    "        tf.nn.sigmoid_cross_entropy_with_logits(logits=d_fake_logits, labels=tf.ones_like(d_fake_logits)))\n",
    "    \n",
    "    return d_loss, g_loss\n",
    "        "
   ]
  },
  {
   "cell_type": "markdown",
   "metadata": {},
   "source": [
    "### Optimizer "
   ]
  },
  {
   "cell_type": "code",
   "execution_count": 15,
   "metadata": {},
   "outputs": [],
   "source": [
    "def optimizer(d_loss, g_loss, learning_rate, beta1):\n",
    "    # get variables to update\n",
    "    t_vars = tf.trainable_variables()\n",
    "    d_vars = [var for var in t_vars if var.name.startswith('discriminator')]\n",
    "    g_vars = [var for var in t_vars if var.name.startswith('generator')]\n",
    "    \n",
    "    # Optimize\n",
    "    with tf.control_dependencies(tf.get_collection(tf.GraphKeys.UPDATE_OPS)):\n",
    "        d_train_opt = tf.train.AdamOptimizer(learning_rate, beta1=beta1).minimize(d_loss, var_list=d_vars)\n",
    "        g_train_opt = tf.train.AdamOptimizer(learning_rate, beta1=beta1).minimize(g_loss, var_list=g_vars)\n",
    "\n",
    "    return d_train_opt, g_train_opt"
   ]
  },
  {
   "cell_type": "markdown",
   "metadata": {},
   "source": [
    "### build networks "
   ]
  },
  {
   "cell_type": "code",
   "execution_count": 16,
   "metadata": {},
   "outputs": [],
   "source": [
    "tf.reset_default_graph()\n",
    "\n",
    "# define hyperparameters\n",
    "z_size = 100\n",
    "learning_rate = 0.0002\n",
    "x_size = [28, 28, 1]\n",
    "beta1 = 0.5\n",
    "\n",
    "# initializ inputs\n",
    "x, z = initialize_inputs(x_size=x_size, z_size=z_size)\n",
    "\n",
    "# define loss function \n",
    "d_loss, g_loss = loss(x=x, z=z, z_size=z_size)\n",
    "\n",
    "# define optimizers \n",
    "d_opt, g_opt = optimizer(d_loss, g_loss, learning_rate, beta1)"
   ]
  },
  {
   "cell_type": "markdown",
   "metadata": {},
   "source": [
    "### Training"
   ]
  },
  {
   "cell_type": "code",
   "execution_count": 21,
   "metadata": {},
   "outputs": [
    {
     "name": "stdout",
     "output_type": "stream",
     "text": [
      "epoch 0;  0.999815 1.17613\n",
      "epoch 1;  1.05496 0.849435\n",
      "epoch 2;  1.05645 0.857162\n",
      "epoch 3;  1.3655 0.444595\n",
      "epoch 4;  1.16924 0.76075\n",
      "epoch 5;  1.08678 0.982158\n",
      "epoch 6;  1.1902 0.922898\n",
      "epoch 7;  1.16872 0.661942\n",
      "epoch 8;  1.13051 0.853592\n",
      "epoch 9;  1.10982 0.850819\n"
     ]
    },
    {
     "data": {
      "image/png": "[encoded data removed]",
      "text/plain": [
       "<matplotlib.figure.Figure at 0x7f2f93d17a58>"
      ]
     },
     "metadata": {},
     "output_type": "display_data"
    },
    {
     "name": "stdout",
     "output_type": "stream",
     "text": [
      "epoch 10;  1.13803 0.914489\n",
      "epoch 11;  1.15561 0.771027\n",
      "epoch 12;  1.17064 0.793182\n",
      "epoch 13;  1.1437 1.36632\n",
      "epoch 14;  1.12362 0.841807\n",
      "epoch 15;  1.1815 1.29247\n",
      "epoch 16;  1.09336 0.844089\n",
      "epoch 17;  1.21183 1.45049\n",
      "epoch 18;  1.19697 1.05386\n",
      "epoch 19;  1.06463 0.882888\n"
     ]
    },
    {
     "data": {
      "image/png": "[encoded data removed]",
      "text/plain": [
       "<matplotlib.figure.Figure at 0x7f2f93ea5e80>"
      ]
     },
     "metadata": {},
     "output_type": "display_data"
    },
    {
     "name": "stdout",
     "output_type": "stream",
     "text": [
      "epoch 20;  1.12331 1.02954\n",
      "epoch 21;  1.04908 0.963506\n",
      "epoch 22;  1.11677 1.01414\n",
      "epoch 23;  1.12551 0.909681\n",
      "epoch 24;  1.14278 1.24615\n",
      "epoch 25;  1.25807 0.518961\n",
      "epoch 26;  1.13434 1.01941\n",
      "epoch 27;  1.08957 1.44827\n",
      "epoch 28;  1.1548 0.93858\n",
      "epoch 29;  1.21331 0.688559\n"
     ]
    },
    {
     "data": {
      "image/png": "[encoded data removed]",
      "text/plain": [
       "<matplotlib.figure.Figure at 0x7f2f940ba3c8>"
      ]
     },
     "metadata": {},
     "output_type": "display_data"
    },
    {
     "name": "stdout",
     "output_type": "stream",
     "text": [
      "epoch 30;  1.15018 0.93212\n",
      "epoch 31;  1.18202 0.761943\n",
      "epoch 32;  1.06808 0.887574\n",
      "epoch 33;  1.16396 1.13907\n",
      "epoch 34;  1.16108 1.26089\n",
      "epoch 35;  1.16422 0.840726\n",
      "epoch 36;  1.1782 1.31892\n",
      "epoch 37;  1.15071 0.885001\n",
      "epoch 38;  1.09529 0.769837\n",
      "epoch 39;  1.16229 0.992386\n"
     ]
    },
    {
     "data": {
      "image/png": "[encoded data removed]",
      "text/plain": [
       "<matplotlib.figure.Figure at 0x7f2f9409e128>"
      ]
     },
     "metadata": {},
     "output_type": "display_data"
    },
    {
     "name": "stdout",
     "output_type": "stream",
     "text": [
      "epoch 40;  1.15614 0.981703\n",
      "epoch 41;  1.19086 1.14165\n",
      "epoch 42;  1.19081 0.703281\n",
      "epoch 43;  1.11646 0.942188\n",
      "epoch 44;  1.19631 0.718918\n",
      "epoch 45;  1.20278 0.943816\n",
      "epoch 46;  1.15484 0.798251\n",
      "epoch 47;  1.11296 0.885122\n",
      "epoch 48;  1.20817 1.08361\n",
      "epoch 49;  1.15466 0.874245\n"
     ]
    },
    {
     "data": {
      "image/png": "[encoded data removed]",
      "text/plain": [
       "<matplotlib.figure.Figure at 0x7f2f94428550>"
      ]
     },
     "metadata": {},
     "output_type": "display_data"
    },
    {
     "name": "stdout",
     "output_type": "stream",
     "text": [
      "epoch 50;  1.13463 0.869778\n",
      "epoch 51;  1.12683 0.758139\n",
      "epoch 52;  1.17908 0.86656\n",
      "epoch 53;  1.21969 0.777467\n",
      "epoch 54;  1.19477 0.787907\n",
      "epoch 55;  1.23252 0.612906\n",
      "epoch 56;  1.19688 0.652385\n",
      "epoch 57;  1.16364 0.920381\n",
      "epoch 58;  1.20325 1.07921\n",
      "epoch 59;  1.10448 1.01081\n"
     ]
    },
    {
     "data": {
      "image/png": "[encoded data removed]",
      "text/plain": [
       "<matplotlib.figure.Figure at 0x7f2f94365d68>"
      ]
     },
     "metadata": {},
     "output_type": "display_data"
    },
    {
     "name": "stdout",
     "output_type": "stream",
     "text": [
      "epoch 60;  1.32686 0.543725\n",
      "epoch 61;  1.17523 1.00844\n",
      "epoch 62;  1.16917 1.01644\n",
      "epoch 63;  1.13146 0.952305\n",
      "epoch 64;  1.18487 0.793517\n",
      "epoch 65;  1.1328 0.977837\n",
      "epoch 66;  1.16578 0.693855\n",
      "epoch 67;  1.20111 1.08351\n",
      "epoch 68;  1.11911 0.956689\n",
      "epoch 69;  1.12554 0.901125\n"
     ]
    },
    {
     "data": {
      "image/png": "[encoded data removed]",
      "text/plain": [
       "<matplotlib.figure.Figure at 0x7f2f942ffda0>"
      ]
     },
     "metadata": {},
     "output_type": "display_data"
    },
    {
     "name": "stdout",
     "output_type": "stream",
     "text": [
      "epoch 70;  1.18171 0.90906\n",
      "epoch 71;  1.19689 0.845663\n",
      "epoch 72;  1.13362 1.21757\n",
      "epoch 73;  1.18215 0.678\n",
      "epoch 74;  1.15764 1.22289\n",
      "epoch 75;  1.21483 0.774348\n",
      "epoch 76;  1.13722 0.888693\n",
      "epoch 77;  1.18152 0.784023\n",
      "epoch 78;  1.19359 0.935521\n",
      "epoch 79;  1.18269 0.909382\n"
     ]
    },
    {
     "data": {
      "image/png": "[encoded data removed]",
      "text/plain": [
       "<matplotlib.figure.Figure at 0x7f2f93e9cd68>"
      ]
     },
     "metadata": {},
     "output_type": "display_data"
    },
    {
     "name": "stdout",
     "output_type": "stream",
     "text": [
      "epoch 80;  1.20209 1.18455\n",
      "epoch 81;  1.11972 1.07938\n",
      "epoch 82;  1.1736 0.793274\n",
      "epoch 83;  1.162 0.789994\n",
      "epoch 84;  1.21447 1.1905\n",
      "epoch 85;  1.19818 0.872355\n",
      "epoch 86;  1.19829 0.719631\n",
      "epoch 87;  1.20152 0.821029\n",
      "epoch 88;  1.25252 0.68098\n",
      "epoch 89;  1.10198 1.25906\n"
     ]
    },
    {
     "data": {
      "image/png": "[encoded data removed]",
      "text/plain": [
       "<matplotlib.figure.Figure at 0x7f2f8ce4bda0>"
      ]
     },
     "metadata": {},
     "output_type": "display_data"
    },
    {
     "name": "stdout",
     "output_type": "stream",
     "text": [
      "epoch 90;  1.1125 1.07844\n",
      "epoch 91;  1.18065 0.924131\n",
      "epoch 92;  1.11492 0.942934\n",
      "epoch 93;  1.18786 0.686932\n",
      "epoch 94;  1.17413 0.777177\n",
      "epoch 95;  1.16448 0.957973\n",
      "epoch 96;  1.16008 0.981227\n",
      "epoch 97;  1.1577 0.817573\n",
      "epoch 98;  1.26602 0.63036\n",
      "epoch 99;  1.19536 0.728209\n"
     ]
    },
    {
     "data": {
      "image/png": "[encoded data removed]",
      "text/plain": [
       "<matplotlib.figure.Figure at 0x7f2f93e65f60>"
      ]
     },
     "metadata": {},
     "output_type": "display_data"
    }
   ],
   "source": [
    "epochs = 100\n",
    "batch_size = 100\n",
    "\n",
    "with tf.Session() as sess:\n",
    "    sess.run(tf.global_variables_initializer())\n",
    "    for e in range(epochs):\n",
    "        for i in range(batch_size):\n",
    "            # get imgs, reshape and rescale to pass to discriminator\n",
    "            batch = mnist.train.next_batch(batch_size)\n",
    "            real_imgs = batch[0].reshape(-1, 28, 28, 1)\n",
    "            real_imgs = real_imgs*2 - 1\n",
    "\n",
    "            # generate random vector for z \n",
    "            rand_noise = np.random.uniform(-1, 1, size=(batch_size, z_size))\n",
    "            \n",
    "            \n",
    "            # update discriminator and generator \n",
    "            sess.run(g_opt, feed_dict={x:real_imgs, z:rand_noise})\n",
    "            sess.run(d_opt, feed_dict={x:real_imgs, z:rand_noise})\n",
    "            \n",
    "        # print training losses \n",
    "        train_loss_d = d_loss.eval({x:real_imgs, z:rand_noise})\n",
    "        train_loss_g = g_loss.eval({z:rand_noise})\n",
    "        print(\"epoch \" + str(e) + \"; \", train_loss_d, train_loss_g)\n",
    "        \n",
    "        # print generated images \n",
    "        if (e+1)%10 == 0:\n",
    "            sample_z = np.random.uniform(-1, 1, size=(1, z_size))\n",
    "            g_logits, g_imgs = sess.run(generator(z, z_size, reuse=True), feed_dict={z: sample_z})\n",
    "            g_imgs = g_imgs[0, :, :, 0]\n",
    "            plt.imshow(g_imgs, cmap=\"Greys_r\")\n",
    "            plt.show()\n",
    "        \n",
    "    "
   ]
  },
  {
   "cell_type": "code",
   "execution_count": null,
   "metadata": {},
   "outputs": [],
   "source": []
  }
 ],
 "metadata": {
  "anaconda-cloud": {},
  "kernelspec": {
   "display_name": "Python 3",
   "language": "python",
   "name": "python3"
  },
  "language_info": {
   "codemirror_mode": {
    "name": "ipython",
    "version": 3
   },
   "file_extension": ".py",
   "mimetype": "text/x-python",
   "name": "python",
   "nbconvert_exporter": "python",
   "pygments_lexer": "ipython3",
   "version": "3.5.2"
  }
 },
 "nbformat": 4,
 "nbformat_minor": 1
}
