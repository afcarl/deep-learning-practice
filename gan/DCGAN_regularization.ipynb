{
 "cells": [
  {
   "cell_type": "markdown",
   "metadata": {},
   "source": [
    "# DCGAN with Regularization"
   ]
  },
  {
   "cell_type": "code",
   "execution_count": 1,
   "metadata": {
    "collapsed": true
   },
   "outputs": [],
   "source": [
    "import tensorflow as tf\n",
    "import numpy as np\n",
    "import matplotlib.pyplot as plt"
   ]
  },
  {
   "cell_type": "code",
   "execution_count": 2,
   "metadata": {
    "collapsed": false
   },
   "outputs": [
    {
     "name": "stdout",
     "output_type": "stream",
     "text": [
      "Extracting ../MNIST_data/train-images-idx3-ubyte.gz\n",
      "Extracting ../MNIST_data/train-labels-idx1-ubyte.gz\n",
      "Extracting ../MNIST_data/t10k-images-idx3-ubyte.gz\n",
      "Extracting ../MNIST_data/t10k-labels-idx1-ubyte.gz\n"
     ]
    }
   ],
   "source": [
    "from tensorflow.examples.tutorials.mnist import input_data\n",
    "mnist = input_data.read_data_sets('../MNIST_data', validation_size=0)"
   ]
  },
  {
   "cell_type": "code",
   "execution_count": 3,
   "metadata": {
    "collapsed": false
   },
   "outputs": [
    {
     "data": {
      "image/png": "[encoded data removed]",
      "text/plain": [
       "<matplotlib.figure.Figure at 0x12032fbe0>"
      ]
     },
     "metadata": {},
     "output_type": "display_data"
    }
   ],
   "source": [
    "img = mnist.train.images[2]\n",
    "img = img.reshape((28, 28))\n",
    "plt.imshow(img, cmap=\"Greys_r\")\n",
    "plt.show()"
   ]
  },
  {
   "cell_type": "code",
   "execution_count": 4,
   "metadata": {
    "collapsed": true
   },
   "outputs": [],
   "source": [
    "def Discriminator_Regularizer(D1_logits, D1_arg, D2_logits, D2_arg, batch_size):\n",
    "    D1 = tf.nn.sigmoid(D1_logits)\n",
    "    D2 = tf.nn.sigmoid(D2_logits)\n",
    "    grad_D1_logits = tf.gradients(D1_logits, D1_arg)[0]\n",
    "    grad_D2_logits = tf.gradients(D2_logits, D2_arg)[0]\n",
    "    grad_D1_logits_norm = tf.norm(tf.reshape(grad_D1_logits, [batch_size,-1]), axis=1, keep_dims=True)\n",
    "    grad_D2_logits_norm = tf.norm(tf.reshape(grad_D2_logits, [batch_size,-1]), axis=1, keep_dims=True)\n",
    "\n",
    "    #set keep_dims=True/False such that grad_D_logits_norm.shape == D.shape\n",
    "    print(grad_D1_logits_norm.shape)\n",
    "    print(D1.shape)\n",
    "    assert grad_D1_logits_norm.shape == D1.shape\n",
    "    assert grad_D2_logits_norm.shape == D2.shape\n",
    "\n",
    "    reg_D1 = tf.multiply(tf.square(1.0-D1), tf.square(grad_D1_logits_norm))\n",
    "    reg_D2 = tf.multiply(tf.square(D2), tf.square(grad_D2_logits_norm))\n",
    "    disc_regularizer = tf.reduce_mean(reg_D1 + reg_D2)\n",
    "    return disc_regularizer"
   ]
  },
  {
   "cell_type": "code",
   "execution_count": 5,
   "metadata": {
    "collapsed": true
   },
   "outputs": [],
   "source": [
    "def leaky_relu(x, alpha=0.2):\n",
    "    return tf.maximum(x * alpha, x)\n",
    "\n",
    "def conv2d(x, W_size, name, strides=[1, 1, 1, 1]):\n",
    "    \"\"\"\n",
    "    make conv layer\n",
    "    \n",
    "    :param x: input to conv layer. the size must match with W_size. \n",
    "    :param W_size: list. [filter_width, filter_height, input_channel, output_channel]\n",
    "    :param strides: list of strides of each dimension as follows. [batch, width, height, channel] \n",
    "    :return: returns conv layer with bias b added. \n",
    "    \"\"\"\n",
    "    W = tf.get_variable(shape=W_size, name=name+\"/weight\")\n",
    "    b = tf.get_variable(shape=W_size[3], name=name+\"/bias\")\n",
    "    conv = tf.nn.conv2d(input=x, filter=W, strides=strides, padding=\"SAME\")\n",
    "    return conv + b"
   ]
  },
  {
   "cell_type": "code",
   "execution_count": 6,
   "metadata": {
    "collapsed": true
   },
   "outputs": [],
   "source": [
    "def initialize_inputs_gamma(x_size, z_size):\n",
    "    \"\"\"\n",
    "    initialize inputs x and z. \n",
    "    \n",
    "    x is for real data, and z is for random noise for generator. \n",
    "    \n",
    "    :param z_size: size of z vector\n",
    "    :return x and z \n",
    "    \"\"\"\n",
    "    x = tf.placeholder(dtype=tf.float32, shape=[batch_size, *x_size], name=\"input_real\")\n",
    "    z = tf.placeholder(dtype=tf.float32, shape=[batch_size, z_size], name=\"input_z\")\n",
    "    gamma = tf.placeholder(dtype=tf.float32, shape=None, name=\"gamma\")\n",
    "    \n",
    "    return x, z, gamma"
   ]
  },
  {
   "cell_type": "code",
   "execution_count": 7,
   "metadata": {
    "collapsed": true
   },
   "outputs": [],
   "source": [
    "def generator(z, z_size, reuse=False, training=True):\n",
    "    \"\"\"\n",
    "    :param z: a vector with length z_size, where every elements of z is between -1 and 1\n",
    "    :param z_size: length of the z vector\n",
    "    :param reuse: boolean. whether to reuse the trained variable of weights. \n",
    "    :param training: boolean. whether it is training or not\n",
    "    :return: creates generator and return the logits and model\n",
    "    \"\"\"\n",
    "    with tf.variable_scope(\"generator\", reuse=reuse):\n",
    "        # layer 1: fully connected layer \n",
    "        # change the length of z such that it fits to conv layer \n",
    "        W_fc1 = tf.get_variable(shape=[z_size, 7*7*256], name=\"fc_weight\")\n",
    "        b_fc1 = tf.get_variable(shape=7*7*256, name=\"fc_bias\")\n",
    "        h_fc1 = tf.matmul(z, W_fc1) + b_fc1\n",
    "        # now, (7*7*256, )\n",
    "\n",
    "        # layer 2: reshape layer \n",
    "        reshape2 = tf.reshape(h_fc1, shape=[-1, 7, 7, 256])\n",
    "        # now, 7 x 7 x 256\n",
    "        batch_norm2 = tf.layers.batch_normalization(reshape2, training=training)\n",
    "        relu2 = leaky_relu(batch_norm2)\n",
    "\n",
    "        # layer 3: conv layer \n",
    "        resize3 = tf.image.resize_nearest_neighbor(images=relu2, size=(14, 14))\n",
    "        # now, 14 x 14 x 256\n",
    "        conv3 = conv2d(x=resize3, W_size=[5, 5, 256, 128], name=\"conv3\")\n",
    "        # now, 14 x 14 x 128\n",
    "        batch_norm3 = tf.layers.batch_normalization(conv3, training=training)\n",
    "        relu3 = leaky_relu(batch_norm3)\n",
    "\n",
    "        # layer 4: conv layer \n",
    "        resize4 = tf.image.resize_nearest_neighbor(images=relu3, size=(28, 28))\n",
    "        # now, 28 x 28 x 128\n",
    "        conv4 = conv2d(x=resize4, W_size=[5, 5, 128, 64], name=\"conv4\")\n",
    "        # now, 28 x 28 x 64\n",
    "        batch_norm4 = tf.layers.batch_normalization(conv4, training=training)\n",
    "        relu4 = leaky_relu(batch_norm4)\n",
    "        \n",
    "        # layer 5: conv layer \n",
    "        conv5 = conv2d(x=relu4, W_size=[5, 5, 64, 32], name=\"conv5\")\n",
    "        # now, 28 x 28 x 32\n",
    "        batch_norm5 = tf.layers.batch_normalization(conv5, training=training)\n",
    "        relu5 = leaky_relu(batch_norm5)\n",
    "        \n",
    "        # layer 5: output layer \n",
    "        logits = conv2d(x=relu5, W_size=[5, 5, 32, 1], name=\"output\")\n",
    "        model = tf.tanh(logits)\n",
    "        \n",
    "        return logits, model"
   ]
  },
  {
   "cell_type": "code",
   "execution_count": 8,
   "metadata": {
    "collapsed": true
   },
   "outputs": [],
   "source": [
    "def discriminator(x, reuse=False, training=True):\n",
    "    \"\"\"\n",
    "    :param x: list [None, 28, 28, 1], where every element is between -1 and 1\n",
    "    :param reuse: boolean. whether to reuse the trained variable of weights. \n",
    "    :param training: boolean. whether it is training or not\n",
    "    :return: creates discriminator and returns logits and model \n",
    "    \"\"\"\n",
    "    with tf.variable_scope(\"discriminator\", reuse=reuse):\n",
    "        # layer 0: conv layer \n",
    "        conv0 = conv2d(x=x, W_size=[5, 5, 1, 32], strides=[1, 2, 2, 1], name=\"conv0\")\n",
    "        # now, 14 x 14 x 32\n",
    "        relu0 = leaky_relu(conv0)\n",
    "        \n",
    "        # layer 1: conv layer \n",
    "        conv1 = conv2d(x=relu0, W_size=[5, 5, 32, 64], strides=[1, 2, 2, 1], name=\"conv1\")\n",
    "        # now, 7 x 7 x 64\n",
    "        relu1 = leaky_relu(conv1)\n",
    "        \n",
    "        # layer 2: conv layer \n",
    "        conv2 = conv2d(x=relu1, W_size=[5, 5, 64, 128], strides=[1, 2, 2, 1], name=\"conv2\")\n",
    "        # now, 4 x 4 x 128\n",
    "        batch_norm2 = tf.layers.batch_normalization(conv2, training=training)\n",
    "        relu2 = leaky_relu(batch_norm2)\n",
    "        \n",
    "        # layer 3: reshape \n",
    "        reshape3 = tf.reshape(relu2, shape=[-1, 4*4*128])\n",
    "        \n",
    "        # layer 4: fc layer \n",
    "        W_fc4 = tf.get_variable(shape=[4*4*128, 1], name=\"fc_weight\")\n",
    "        b_fc4 = tf.get_variable(shape=[1], name=\"fc_bias\")\n",
    "        logits = tf.matmul(reshape3, W_fc4) + b_fc4\n",
    "        # now, (1, )\n",
    "        model = tf.nn.sigmoid(logits)\n",
    "        \n",
    "        return logits, model"
   ]
  },
  {
   "cell_type": "code",
   "execution_count": 9,
   "metadata": {
    "collapsed": true
   },
   "outputs": [],
   "source": [
    "def loss_regularized(x, z, z_size, gamma, batch_size):\n",
    "    \"\"\"\n",
    "    define the loss functions of discriminator and generator \n",
    "    \n",
    "    :param x: real image\n",
    "    :param z: random noize z \n",
    "    :param z_size: size of random noise \n",
    "    :return: d_loss, g_loss\n",
    "    \"\"\"\n",
    "    # generate fake images \n",
    "    g_logits, g_model = generator(z=z, z_size=z_size)\n",
    "    # using real and fake images, get outputs of discriminator  \n",
    "    d_real_logits, d_real_model = discriminator(x=x)\n",
    "    d_fake_logits, d_fake_model = discriminator(x=g_model, reuse=True)\n",
    "    \n",
    "    # define discriminator loss\n",
    "    d_real_loss = tf.reduce_mean(\n",
    "        tf.nn.sigmoid_cross_entropy_with_logits(logits=d_real_logits, labels=tf.ones_like(d_real_logits)))\n",
    "    d_fake_loss = tf.reduce_mean(\n",
    "        tf.nn.sigmoid_cross_entropy_with_logits(logits=d_fake_logits, labels=tf.zeros_like(d_fake_logits)))\n",
    "    d_loss = d_real_loss + d_fake_loss\n",
    "    \n",
    "    # regularizing \n",
    "    d_reg = Discriminator_Regularizer(d_real_logits, x, d_fake_logits, g_model, batch_size)\n",
    "    d_loss += (gamma/2.0)*d_reg\n",
    "    \n",
    "    # define generator loss\n",
    "    g_loss = tf.reduce_mean(\n",
    "        tf.nn.sigmoid_cross_entropy_with_logits(logits=d_fake_logits, labels=tf.ones_like(d_fake_logits)))\n",
    "    \n",
    "    return d_loss, g_loss  "
   ]
  },
  {
   "cell_type": "code",
   "execution_count": 10,
   "metadata": {
    "collapsed": true
   },
   "outputs": [],
   "source": [
    "def optimizer(d_loss, g_loss, g_lr, d_lr, g_beta1, d_beta1):\n",
    "    # get variables to update\n",
    "    t_vars = tf.trainable_variables()\n",
    "    d_vars = [var for var in t_vars if var.name.startswith('discriminator')]\n",
    "    g_vars = [var for var in t_vars if var.name.startswith('generator')]\n",
    "    \n",
    "    # Optimize\n",
    "    with tf.control_dependencies(tf.get_collection(tf.GraphKeys.UPDATE_OPS)):\n",
    "        d_train_opt = tf.train.AdamOptimizer(d_lr, beta1=d_beta1).minimize(d_loss, var_list=d_vars)\n",
    "        g_train_opt = tf.train.AdamOptimizer(g_lr, beta1=g_beta1).minimize(g_loss, var_list=g_vars)\n",
    "\n",
    "    return d_train_opt, g_train_opt"
   ]
  },
  {
   "cell_type": "code",
   "execution_count": 13,
   "metadata": {
    "collapsed": false
   },
   "outputs": [
    {
     "name": "stdout",
     "output_type": "stream",
     "text": [
      "(50, 1)\n",
      "(50, 1)\n"
     ]
    }
   ],
   "source": [
    "tf.reset_default_graph()\n",
    "\n",
    "# define hyperparameters\n",
    "z_size = 100\n",
    "g_learning_rate = 0.0004\n",
    "d_learning_rate = 0.0004\n",
    "x_size = [28, 28, 1]\n",
    "g_beta1 = 0.8\n",
    "d_beta1 = 0.8\n",
    "batch_size = 50\n",
    "\n",
    "# initializ inputs\n",
    "x, z, gamma = initialize_inputs_gamma(x_size=x_size, z_size=z_size)\n",
    "\n",
    "# define loss function \n",
    "d_loss, g_loss = loss_regularized(x=x, z=z, z_size=z_size, gamma=gamma, batch_size=batch_size)\n",
    "\n",
    "# define optimizers \n",
    "d_opt, g_opt = optimizer(d_loss, g_loss, g_lr=g_learning_rate, d_lr=d_learning_rate, g_beta1=g_beta1, d_beta1=d_beta1)"
   ]
  },
  {
   "cell_type": "markdown",
   "metadata": {},
   "source": [
    "# Updating every variable"
   ]
  },
  {
   "cell_type": "code",
   "execution_count": 14,
   "metadata": {
    "collapsed": false
   },
   "outputs": [
    {
     "ename": "TypeError",
     "evalue": "Cannot interpret feed_dict key as Tensor: Can not convert a int into a Tensor.",
     "output_type": "error",
     "traceback": [
      "\u001b[0;31m---------------------------------------------------------------------------\u001b[0m",
      "\u001b[0;31mTypeError\u001b[0m                                 Traceback (most recent call last)",
      "\u001b[0;32m/Users/leesuckgeun/anaconda/lib/python3.5/site-packages/tensorflow/python/client/session.py\u001b[0m in \u001b[0;36m_run\u001b[0;34m(self, handle, fetches, feed_dict, options, run_metadata)\u001b[0m\n\u001b[1;32m   1067\u001b[0m             subfeed_t = self.graph.as_graph_element(subfeed, allow_tensor=True,\n\u001b[0;32m-> 1068\u001b[0;31m                                                     allow_operation=False)\n\u001b[0m\u001b[1;32m   1069\u001b[0m           \u001b[0;32mexcept\u001b[0m \u001b[0mException\u001b[0m \u001b[0;32mas\u001b[0m \u001b[0me\u001b[0m\u001b[0;34m:\u001b[0m\u001b[0;34m\u001b[0m\u001b[0m\n",
      "\u001b[0;32m/Users/leesuckgeun/anaconda/lib/python3.5/site-packages/tensorflow/python/framework/ops.py\u001b[0m in \u001b[0;36mas_graph_element\u001b[0;34m(self, obj, allow_tensor, allow_operation)\u001b[0m\n\u001b[1;32m   2707\u001b[0m     \u001b[0;32mwith\u001b[0m \u001b[0mself\u001b[0m\u001b[0;34m.\u001b[0m\u001b[0m_lock\u001b[0m\u001b[0;34m:\u001b[0m\u001b[0;34m\u001b[0m\u001b[0m\n\u001b[0;32m-> 2708\u001b[0;31m       \u001b[0;32mreturn\u001b[0m \u001b[0mself\u001b[0m\u001b[0;34m.\u001b[0m\u001b[0m_as_graph_element_locked\u001b[0m\u001b[0;34m(\u001b[0m\u001b[0mobj\u001b[0m\u001b[0;34m,\u001b[0m \u001b[0mallow_tensor\u001b[0m\u001b[0;34m,\u001b[0m \u001b[0mallow_operation\u001b[0m\u001b[0;34m)\u001b[0m\u001b[0;34m\u001b[0m\u001b[0m\n\u001b[0m\u001b[1;32m   2709\u001b[0m \u001b[0;34m\u001b[0m\u001b[0m\n",
      "\u001b[0;32m/Users/leesuckgeun/anaconda/lib/python3.5/site-packages/tensorflow/python/framework/ops.py\u001b[0m in \u001b[0;36m_as_graph_element_locked\u001b[0;34m(self, obj, allow_tensor, allow_operation)\u001b[0m\n\u001b[1;32m   2796\u001b[0m       raise TypeError(\"Can not convert a %s into a %s.\"\n\u001b[0;32m-> 2797\u001b[0;31m                       % (type(obj).__name__, types_str))\n\u001b[0m\u001b[1;32m   2798\u001b[0m \u001b[0;34m\u001b[0m\u001b[0m\n",
      "\u001b[0;31mTypeError\u001b[0m: Can not convert a int into a Tensor.",
      "\nDuring handling of the above exception, another exception occurred:\n",
      "\u001b[0;31mTypeError\u001b[0m                                 Traceback (most recent call last)",
      "\u001b[0;32m<ipython-input-14-55b0f617f77e>\u001b[0m in \u001b[0;36m<module>\u001b[0;34m()\u001b[0m\n\u001b[1;32m     22\u001b[0m \u001b[0;34m\u001b[0m\u001b[0m\n\u001b[1;32m     23\u001b[0m         \u001b[0;31m# save training losses\u001b[0m\u001b[0;34m\u001b[0m\u001b[0;34m\u001b[0m\u001b[0m\n\u001b[0;32m---> 24\u001b[0;31m         \u001b[0mtrain_loss_d\u001b[0m \u001b[0;34m=\u001b[0m \u001b[0md_loss\u001b[0m\u001b[0;34m.\u001b[0m\u001b[0meval\u001b[0m\u001b[0;34m(\u001b[0m\u001b[0;34m{\u001b[0m\u001b[0mx\u001b[0m\u001b[0;34m:\u001b[0m\u001b[0mreal_imgs\u001b[0m\u001b[0;34m,\u001b[0m \u001b[0mz\u001b[0m\u001b[0;34m:\u001b[0m\u001b[0mrand_noise\u001b[0m\u001b[0;34m,\u001b[0m \u001b[0mbatch_size\u001b[0m\u001b[0;34m:\u001b[0m\u001b[0mbatch_size\u001b[0m\u001b[0;34m,\u001b[0m \u001b[0mgamma\u001b[0m\u001b[0;34m:\u001b[0m\u001b[0;34m[\u001b[0m\u001b[0;36m0\u001b[0m\u001b[0;34m]\u001b[0m\u001b[0;34m}\u001b[0m\u001b[0;34m)\u001b[0m\u001b[0;34m\u001b[0m\u001b[0m\n\u001b[0m\u001b[1;32m     25\u001b[0m         \u001b[0mtrain_loss_g\u001b[0m \u001b[0;34m=\u001b[0m \u001b[0mg_loss\u001b[0m\u001b[0;34m.\u001b[0m\u001b[0meval\u001b[0m\u001b[0;34m(\u001b[0m\u001b[0;34m{\u001b[0m\u001b[0mz\u001b[0m\u001b[0;34m:\u001b[0m\u001b[0mrand_noise\u001b[0m\u001b[0;34m,\u001b[0m \u001b[0mbatch_size\u001b[0m\u001b[0;34m:\u001b[0m\u001b[0mbatch_size\u001b[0m\u001b[0;34m,\u001b[0m \u001b[0mgamma\u001b[0m\u001b[0;34m:\u001b[0m\u001b[0;34m[\u001b[0m\u001b[0;36m0\u001b[0m\u001b[0;34m]\u001b[0m\u001b[0;34m}\u001b[0m\u001b[0;34m)\u001b[0m\u001b[0;34m\u001b[0m\u001b[0m\n\u001b[1;32m     26\u001b[0m         \u001b[0mlosses\u001b[0m\u001b[0;34m.\u001b[0m\u001b[0mappend\u001b[0m\u001b[0;34m(\u001b[0m\u001b[0;34m(\u001b[0m\u001b[0mtrain_loss_d\u001b[0m\u001b[0;34m,\u001b[0m \u001b[0mtrain_loss_g\u001b[0m\u001b[0;34m)\u001b[0m\u001b[0;34m)\u001b[0m\u001b[0;34m\u001b[0m\u001b[0m\n",
      "\u001b[0;32m/Users/leesuckgeun/anaconda/lib/python3.5/site-packages/tensorflow/python/framework/ops.py\u001b[0m in \u001b[0;36meval\u001b[0;34m(self, feed_dict, session)\u001b[0m\n\u001b[1;32m    539\u001b[0m \u001b[0;34m\u001b[0m\u001b[0m\n\u001b[1;32m    540\u001b[0m     \"\"\"\n\u001b[0;32m--> 541\u001b[0;31m     \u001b[0;32mreturn\u001b[0m \u001b[0m_eval_using_default_session\u001b[0m\u001b[0;34m(\u001b[0m\u001b[0mself\u001b[0m\u001b[0;34m,\u001b[0m \u001b[0mfeed_dict\u001b[0m\u001b[0;34m,\u001b[0m \u001b[0mself\u001b[0m\u001b[0;34m.\u001b[0m\u001b[0mgraph\u001b[0m\u001b[0;34m,\u001b[0m \u001b[0msession\u001b[0m\u001b[0;34m)\u001b[0m\u001b[0;34m\u001b[0m\u001b[0m\n\u001b[0m\u001b[1;32m    542\u001b[0m \u001b[0;34m\u001b[0m\u001b[0m\n\u001b[1;32m    543\u001b[0m \u001b[0;34m\u001b[0m\u001b[0m\n",
      "\u001b[0;32m/Users/leesuckgeun/anaconda/lib/python3.5/site-packages/tensorflow/python/framework/ops.py\u001b[0m in \u001b[0;36m_eval_using_default_session\u001b[0;34m(tensors, feed_dict, graph, session)\u001b[0m\n\u001b[1;32m   4083\u001b[0m                        \u001b[0;34m\"the tensor's graph is different from the session's \"\u001b[0m\u001b[0;34m\u001b[0m\u001b[0m\n\u001b[1;32m   4084\u001b[0m                        \"graph.\")\n\u001b[0;32m-> 4085\u001b[0;31m   \u001b[0;32mreturn\u001b[0m \u001b[0msession\u001b[0m\u001b[0;34m.\u001b[0m\u001b[0mrun\u001b[0m\u001b[0;34m(\u001b[0m\u001b[0mtensors\u001b[0m\u001b[0;34m,\u001b[0m \u001b[0mfeed_dict\u001b[0m\u001b[0;34m)\u001b[0m\u001b[0;34m\u001b[0m\u001b[0m\n\u001b[0m\u001b[1;32m   4086\u001b[0m \u001b[0;34m\u001b[0m\u001b[0m\n\u001b[1;32m   4087\u001b[0m \u001b[0;34m\u001b[0m\u001b[0m\n",
      "\u001b[0;32m/Users/leesuckgeun/anaconda/lib/python3.5/site-packages/tensorflow/python/client/session.py\u001b[0m in \u001b[0;36mrun\u001b[0;34m(self, fetches, feed_dict, options, run_metadata)\u001b[0m\n\u001b[1;32m    893\u001b[0m     \u001b[0;32mtry\u001b[0m\u001b[0;34m:\u001b[0m\u001b[0;34m\u001b[0m\u001b[0m\n\u001b[1;32m    894\u001b[0m       result = self._run(None, fetches, feed_dict, options_ptr,\n\u001b[0;32m--> 895\u001b[0;31m                          run_metadata_ptr)\n\u001b[0m\u001b[1;32m    896\u001b[0m       \u001b[0;32mif\u001b[0m \u001b[0mrun_metadata\u001b[0m\u001b[0;34m:\u001b[0m\u001b[0;34m\u001b[0m\u001b[0m\n\u001b[1;32m    897\u001b[0m         \u001b[0mproto_data\u001b[0m \u001b[0;34m=\u001b[0m \u001b[0mtf_session\u001b[0m\u001b[0;34m.\u001b[0m\u001b[0mTF_GetBuffer\u001b[0m\u001b[0;34m(\u001b[0m\u001b[0mrun_metadata_ptr\u001b[0m\u001b[0;34m)\u001b[0m\u001b[0;34m\u001b[0m\u001b[0m\n",
      "\u001b[0;32m/Users/leesuckgeun/anaconda/lib/python3.5/site-packages/tensorflow/python/client/session.py\u001b[0m in \u001b[0;36m_run\u001b[0;34m(self, handle, fetches, feed_dict, options, run_metadata)\u001b[0m\n\u001b[1;32m   1069\u001b[0m           \u001b[0;32mexcept\u001b[0m \u001b[0mException\u001b[0m \u001b[0;32mas\u001b[0m \u001b[0me\u001b[0m\u001b[0;34m:\u001b[0m\u001b[0;34m\u001b[0m\u001b[0m\n\u001b[1;32m   1070\u001b[0m             raise TypeError('Cannot interpret feed_dict key as Tensor: '\n\u001b[0;32m-> 1071\u001b[0;31m                             + e.args[0])\n\u001b[0m\u001b[1;32m   1072\u001b[0m \u001b[0;34m\u001b[0m\u001b[0m\n\u001b[1;32m   1073\u001b[0m           \u001b[0;32mif\u001b[0m \u001b[0misinstance\u001b[0m\u001b[0;34m(\u001b[0m\u001b[0msubfeed_val\u001b[0m\u001b[0;34m,\u001b[0m \u001b[0mops\u001b[0m\u001b[0;34m.\u001b[0m\u001b[0mTensor\u001b[0m\u001b[0;34m)\u001b[0m\u001b[0;34m:\u001b[0m\u001b[0;34m\u001b[0m\u001b[0m\n",
      "\u001b[0;31mTypeError\u001b[0m: Cannot interpret feed_dict key as Tensor: Can not convert a int into a Tensor."
     ]
    }
   ],
   "source": [
    "epochs = 1200\n",
    "batch_size = 50\n",
    "\n",
    "t_vars = tf.trainable_variables()\n",
    "d_vars = [var for var in t_vars if var.name.startswith('discriminator')]\n",
    "g_vars = [var for var in t_vars if var.name.startswith('generator')]\n",
    "saver_disc = tf.train.Saver(d_vars)\n",
    "saver_gen = tf.train.Saver(g_vars)\n",
    "saver = tf.train.Saver()\n",
    "\n",
    "\n",
    "sample_size = 50\n",
    "losses = []\n",
    "d_train = False\n",
    "g_train = False\n",
    "d_count = 0\n",
    "g_count = 0\n",
    "gamma_c = 0\n",
    "\n",
    "with tf.Session() as sess:\n",
    "    sess.run(tf.global_variables_initializer())\n",
    "    for e in range(epochs):\n",
    "        for i in range(100):\n",
    "            # get imgs, reshape and rescale to pass to discriminator\n",
    "            batch = mnist.train.next_batch(batch_size)\n",
    "            real_imgs = batch[0].reshape(-1, 28, 28, 1)\n",
    "            real_imgs = real_imgs*2 - 1\n",
    "\n",
    "            # generate random vector for z \n",
    "            rand_noise = np.random.uniform(-1, 1, size=(batch_size, z_size))\n",
    "            \n",
    "            # update discriminator and generator \n",
    "            if d_train:\n",
    "#                 print(\"disc training\")\n",
    "                sess.run(d_opt, feed_dict={x:real_imgs, z:rand_noise, gamma:1/(e+1)**3})\n",
    "            if g_train:\n",
    "#                 print(\"gen training\")\n",
    "                sess.run(g_opt, feed_dict={x:real_imgs, z:rand_noise, gamma:1/(e+1)**3})\n",
    "            \n",
    "            # save training losses \n",
    "            train_loss_d = d_loss.eval({x:real_imgs, z:rand_noise, gamma:0})\n",
    "            train_loss_g = g_loss.eval({z:rand_noise, gamma:0})\n",
    "            losses.append((train_loss_d, train_loss_g))\n",
    "            \n",
    "            if train_loss_d+0.05 > train_loss_g:\n",
    "                d_count += 1\n",
    "                d_train = True\n",
    "                g_train = False\n",
    "            else:\n",
    "                g_count += 1\n",
    "                d_train = False\n",
    "                g_train = True\n",
    "        \n",
    "        # print generated images \n",
    "        if e%3 == 0:\n",
    "            print(\"d:{0}, g:{1}\".format(d_count, g_count))\n",
    "            # generate fake images\n",
    "            sample_z = np.random.uniform(-1, 1, size=(sample_size, z_size))\n",
    "            g_logits, g_imgs = sess.run(generator(z, z_size, reuse=True), feed_dict={z: sample_z, gamma:0})\n",
    "            \n",
    "            # plot fake images \n",
    "            fig, axes = plt.subplots(1, 50, figsize=(100, 2))\n",
    "            for index, ax in enumerate(axes):\n",
    "                ax.imshow(g_imgs[index][:, :, 0], cmap='Greys_r')\n",
    "                ax.get_xaxis().set_visible(False)\n",
    "                ax.get_yaxis().set_visible(False)\n",
    "            fig.tight_layout(pad=0.2)\n",
    "            plt.title(\"epoch: {0}\".format(e))\n",
    "            plt.show()\n",
    "    \n",
    "    # save the trained generator weights\n",
    "    saver.save(sess, './checkpoints/generator.ckpt')\n",
    "    saver_disc.save(sess, './checkpoints_disc/only_disc.ckpt')\n",
    "    saver_gen.save(sess, './checkpoints_gen/only_gen.ckpt')\n",
    "        \n",
    "    "
   ]
  },
  {
   "cell_type": "markdown",
   "metadata": {
    "collapsed": true
   },
   "source": [
    "# Restore pretrained both model and train "
   ]
  },
  {
   "cell_type": "code",
   "execution_count": null,
   "metadata": {
    "collapsed": true
   },
   "outputs": [],
   "source": [
    "epochs = 200\n",
    "batch_size = 50\n",
    "saver = tf.train.Saver()\n",
    "sample_size = 50\n",
    "losses = []\n",
    "d_train = False\n",
    "g_train = False\n",
    "d_count = 0\n",
    "g_count = 0\n",
    "gamma_c = 0\n",
    "\n",
    "with tf.Session() as sess:\n",
    "    \n",
    "    saver.restore(sess, './checkpoints/generator.ckpt')\n",
    "    \n",
    "    for e in range(epochs):\n",
    "        for i in range(100):\n",
    "            # get imgs, reshape and rescale to pass to discriminator\n",
    "            batch = mnist.train.next_batch(batch_size)\n",
    "            real_imgs = batch[0].reshape(-1, 28, 28, 1)\n",
    "            real_imgs = real_imgs*2 - 1\n",
    "\n",
    "            # generate random vector for z \n",
    "            rand_noise = np.random.uniform(-1, 1, size=(batch_size, z_size))\n",
    "            \n",
    "            # update discriminator and generator \n",
    "            if d_train:\n",
    "#                 print(\"disc training\")\n",
    "                sess.run(d_opt, feed_dict={x:real_imgs, z:rand_noise, gamma:1/(e+1)**3})\n",
    "            if g_train:\n",
    "#                 print(\"gen training\")\n",
    "                sess.run(g_opt, feed_dict={x:real_imgs, z:rand_noise, gamma:1/(e+1)**3})\n",
    "            \n",
    "            # save training losses \n",
    "            train_loss_d = d_loss.eval({x:real_imgs, z:rand_noise, gamma:0})\n",
    "            train_loss_g = g_loss.eval({z:rand_noise, gamma:0})\n",
    "            losses.append((train_loss_d, train_loss_g))\n",
    "            \n",
    "            if train_loss_d+0.05 > train_loss_g:\n",
    "                d_count += 1\n",
    "                d_train = True\n",
    "                g_train = False\n",
    "            else:\n",
    "                g_count += 1\n",
    "                d_train = False\n",
    "                g_train = True\n",
    "        \n",
    "        # print generated images \n",
    "        if e%3 == 0:\n",
    "            print(\"d:{0}, g:{1}\".format(d_count, g_count))\n",
    "            # generate fake images\n",
    "            sample_z = np.random.uniform(-1, 1, size=(sample_size, z_size))\n",
    "            g_logits, g_imgs = sess.run(generator(z, z_size, reuse=True), feed_dict={z: sample_z, gamma:0})\n",
    "            \n",
    "            # plot fake images \n",
    "            fig, axes = plt.subplots(1, 50, figsize=(100, 2))\n",
    "            for index, ax in enumerate(axes):\n",
    "                ax.imshow(g_imgs[index][:, :, 0], cmap='Greys_r')\n",
    "                ax.get_xaxis().set_visible(False)\n",
    "                ax.get_yaxis().set_visible(False)\n",
    "            fig.tight_layout(pad=0.2)\n",
    "            plt.title(\"epoch: {0}\".format(e))\n",
    "            plt.show()\n",
    "    \n",
    "    # save the trained generator weights\n",
    "    saver.save(sess, './checkpoints/generator.ckpt')\n",
    "        \n",
    "    "
   ]
  },
  {
   "cell_type": "code",
   "execution_count": null,
   "metadata": {
    "collapsed": true
   },
   "outputs": [],
   "source": []
  },
  {
   "cell_type": "code",
   "execution_count": null,
   "metadata": {
    "collapsed": true
   },
   "outputs": [],
   "source": [
    "fig, ax = plt.subplots()\n",
    "losses = np.array(losses)\n",
    "plt.plot(losses.T[0], label=\"Discriminator\", alpha=0.5)\n",
    "plt.plot(losses.T[1], label=\"Generator\", alpha=0.5)\n",
    "plt.title(\"training losses\")\n",
    "plt.legend()\n",
    "plt.show()"
   ]
  },
  {
   "cell_type": "code",
   "execution_count": null,
   "metadata": {
    "collapsed": true
   },
   "outputs": [],
   "source": [
    "saver = tf.train.Saver()\n",
    "\n",
    "with tf.Session() as sess:\n",
    "    # restore saved model \n",
    "    saver.restore(sess, './checkpoints/generator.ckpt')\n",
    "    \n",
    "    # generate 50 samples \n",
    "    sample_z = np.random.uniform(-1, 1, size=(50, z_size))\n",
    "    g_logits, g_imgs = sess.run(generator(z, z_size, reuse=True), feed_dict={z: sample_z})\n",
    "\n",
    "    # plot fake images \n",
    "    fig, axes = plt.subplots(5, 10, figsize=(20, 10))\n",
    "    index = 0\n",
    "    for row in axes:\n",
    "        for ax in row:\n",
    "            ax.imshow(g_imgs[index][:, :, 0], cmap='Greys_r')\n",
    "            ax.get_xaxis().set_visible(False)\n",
    "            ax.get_yaxis().set_visible(False)\n",
    "            index += 1\n",
    "    fig.tight_layout(pad=0.2)\n",
    "    plt.title(\"epoch: {0}\".format(e))\n",
    "    plt.show()\n",
    "    "
   ]
  },
  {
   "cell_type": "code",
   "execution_count": null,
   "metadata": {
    "collapsed": true
   },
   "outputs": [],
   "source": []
  }
 ],
 "metadata": {
  "anaconda-cloud": {},
  "kernelspec": {
   "display_name": "Python [conda root]",
   "language": "python",
   "name": "conda-root-py"
  },
  "language_info": {
   "codemirror_mode": {
    "name": "ipython",
    "version": 3
   },
   "file_extension": ".py",
   "mimetype": "text/x-python",
   "name": "python",
   "nbconvert_exporter": "python",
   "pygments_lexer": "ipython3",
   "version": "3.5.2"
  }
 },
 "nbformat": 4,
 "nbformat_minor": 1
}
