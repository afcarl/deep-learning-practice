{
 "cells": [
  {
   "cell_type": "code",
   "execution_count": 1,
   "metadata": {
    "collapsed": true
   },
   "outputs": [],
   "source": [
    "import tensorflow as tf\n",
    "import numpy as np\n",
    "import matplotlib.pyplot as plt\n",
    "import csv"
   ]
  },
  {
   "cell_type": "code",
   "execution_count": 2,
   "metadata": {
    "collapsed": false
   },
   "outputs": [
    {
     "name": "stdout",
     "output_type": "stream",
     "text": [
      "Extracting ../MNIST_data/train-images-idx3-ubyte.gz\n",
      "Extracting ../MNIST_data/train-labels-idx1-ubyte.gz\n",
      "Extracting ../MNIST_data/t10k-images-idx3-ubyte.gz\n",
      "Extracting ../MNIST_data/t10k-labels-idx1-ubyte.gz\n"
     ]
    }
   ],
   "source": [
    "from tensorflow.examples.tutorials.mnist import input_data\n",
    "mnist = input_data.read_data_sets('../MNIST_data', validation_size=0)"
   ]
  },
  {
   "cell_type": "code",
   "execution_count": 3,
   "metadata": {
    "collapsed": false
   },
   "outputs": [
    {
     "data": {
      "image/png": "[encoded data removed]",
      "text/plain": [
       "<matplotlib.figure.Figure at 0x11fc67b00>"
      ]
     },
     "metadata": {},
     "output_type": "display_data"
    }
   ],
   "source": [
    "img = mnist.train.images[2]\n",
    "img = img.reshape((28, 28))\n",
    "plt.imshow(img, cmap=\"Greys_r\")\n",
    "plt.show()"
   ]
  },
  {
   "cell_type": "code",
   "execution_count": 4,
   "metadata": {
    "collapsed": true
   },
   "outputs": [],
   "source": [
    "def leaky_relu(x, alpha=0.2):\n",
    "    return tf.maximum(x * alpha, x)"
   ]
  },
  {
   "cell_type": "markdown",
   "metadata": {},
   "source": [
    "First, I try with simple problem. <br>\n",
    "* Generator \n",
    "  1. input = latent vector (100 x 1 x 1)\n",
    "  2. conv2d = kernel(4x4), leaky relu, "
   ]
  },
  {
   "cell_type": "markdown",
   "metadata": {},
   "source": [
    "### Define inputs"
   ]
  },
  {
   "cell_type": "code",
   "execution_count": 5,
   "metadata": {
    "collapsed": false
   },
   "outputs": [],
   "source": [
    "def define_inputs(batch_size):\n",
    "    x_real = tf.placeholder(dtype=tf.float32, shape=[batch_size, 28, 28, 1])\n",
    "#     x = tf.placeholder(dtype=tf.float32, shape=[batch_size, 4, 4, 1])\n",
    "    z = tf.placeholder(dtype=tf.float32, shape=[batch_size, 100])\n",
    "    return x_real, z"
   ]
  },
  {
   "cell_type": "markdown",
   "metadata": {},
   "source": [
    "### Generator "
   ]
  },
  {
   "cell_type": "code",
   "execution_count": 6,
   "metadata": {
    "collapsed": false
   },
   "outputs": [],
   "source": [
    "def generator(z, batch_size, reuse=False):\n",
    "    with tf.variable_scope(\"generator\", reuse=reuse):\n",
    "        z_reshaped = tf.reshape(z, shape=[batch_size, 1, 1, 100])\n",
    "        \n",
    "        # first layer \n",
    "        z_padded = tf.pad(z_reshaped, [[0, 0], [3, 3], [3, 3], [0, 0]])\n",
    "        W_conv1 = tf.get_variable(shape=(4, 4, 100, 1), name=\"conv1_Weight\")\n",
    "        b_conv1 = tf.get_variable(shape=1, name=\"conv1_bias\")\n",
    "        conv1 = tf.nn.conv2d(z_padded, filter=W_conv1, strides=(1, 1, 1, 1), padding=\"VALID\") + b_conv1\n",
    "        \n",
    "        \n",
    "        logit = conv1\n",
    "        relu1 = tf.tanh(conv1)\n",
    "#         relu1 = leaky_relu(conv1)\n",
    "                             \n",
    "        return logit, relu1"
   ]
  },
  {
   "cell_type": "markdown",
   "metadata": {},
   "source": [
    "### Discriminator"
   ]
  },
  {
   "cell_type": "markdown",
   "metadata": {},
   "source": [
    "Down sampling image"
   ]
  },
  {
   "cell_type": "code",
   "execution_count": 7,
   "metadata": {
    "collapsed": true
   },
   "outputs": [],
   "source": [
    "def down_sampling(img):\n",
    "    # average pooling until it gets to 4x4\n",
    "    # now 28 x 28\n",
    "    down1 = tf.nn.avg_pool(img, ksize=[1, 2, 2, 1], strides=[1, 2, 2, 1], padding=\"SAME\")\n",
    "    # now 14 x 14 \n",
    "    down2 = tf.nn.avg_pool(down1, ksize=[1, 2, 2, 1], strides=[1, 2, 2, 1], padding=\"SAME\")\n",
    "    # now 7 x 7\n",
    "    down3 = tf.nn.avg_pool(down2, ksize=[1, 2, 2, 1], strides=[1, 2, 2, 1], padding=\"SAME\")\n",
    "    # now 4 x 4\n",
    "    return down3"
   ]
  },
  {
   "cell_type": "code",
   "execution_count": 8,
   "metadata": {
    "collapsed": true
   },
   "outputs": [],
   "source": [
    "def discriminator(x, batch_size, reuse=False, is_real=False):\n",
    "    \"\"\"\n",
    "    gets img file and outputs 0 if fake, 1 if true\n",
    "    \n",
    "    x: 4x4x1 image \n",
    "    \"\"\"\n",
    "    with tf.variable_scope(\"discriminator\", reuse=reuse):\n",
    "        # progressive gan unique\n",
    "        if is_real:\n",
    "            x = down_sampling(x)\n",
    "        \n",
    "        # flatten the vector\n",
    "        flatten = tf.reshape(x, shape=[batch_size, 4*4*1])\n",
    "        \n",
    "        # fc layer \n",
    "        W_fc = tf.get_variable(shape=[4*4*1, 1], name=\"fc_weight\")\n",
    "        b_fc = tf.get_variable(shape=[1], name=\"fc_bias\")\n",
    "        logits = tf.matmul(flatten, W_fc) + b_fc\n",
    "        \n",
    "        model = tf.nn.sigmoid(logits)\n",
    "        \n",
    "        return logits, model\n",
    "        \n",
    "    "
   ]
  },
  {
   "cell_type": "code",
   "execution_count": null,
   "metadata": {
    "collapsed": true
   },
   "outputs": [],
   "source": []
  },
  {
   "cell_type": "markdown",
   "metadata": {},
   "source": [
    "### loss"
   ]
  },
  {
   "cell_type": "code",
   "execution_count": 9,
   "metadata": {
    "collapsed": true
   },
   "outputs": [],
   "source": [
    "def losses(x, z, batch_size):\n",
    "    g_logits, g_model = generator(z=z, batch_size=batch_size)\n",
    "    \n",
    "    # define discriminator loss\n",
    "    d_real_logits, d_real_model = discriminator(x, batch_size, is_real=True)\n",
    "    d_real_labels = tf.ones_like(d_real_logits)\n",
    "    d_fake_logits, d_fake_model = discriminator(g_model, batch_size, reuse=True)\n",
    "    d_fake_labels = tf.zeros_like(d_fake_logits)\n",
    "    d_loss_real = tf.reduce_mean(\n",
    "        tf.nn.sigmoid_cross_entropy_with_logits(labels=d_real_labels, logits=d_real_logits))\n",
    "    d_loss_fake = tf.reduce_mean(\n",
    "        tf.nn.sigmoid_cross_entropy_with_logits(labels=d_fake_labels, \n",
    "                                               logits=d_fake_logits))\n",
    "    d_loss = d_loss_real + d_loss_fake\n",
    "    \n",
    "    # define generator loss \n",
    "    g_labels = tf.ones_like(d_fake_logits)\n",
    "    g_loss = tf.reduce_mean(\n",
    "        tf.nn.sigmoid_cross_entropy_with_logits(labels=g_labels, logits=d_fake_logits))\n",
    "    \n",
    "    return d_loss, g_loss\n",
    "    "
   ]
  },
  {
   "cell_type": "markdown",
   "metadata": {},
   "source": [
    "### optimizer "
   ]
  },
  {
   "cell_type": "code",
   "execution_count": 10,
   "metadata": {
    "collapsed": true
   },
   "outputs": [],
   "source": [
    "def opt(d_loss, g_loss):\n",
    "    t_vars = tf.trainable_variables()\n",
    "    d_vars = [var for var in t_vars if var.name.startswith(\"discriminator\")]\n",
    "    g_vars = [var for var in t_vars if var.name.startswith(\"generator\")]\n",
    "    \n",
    "    d_opt = tf.train.AdamOptimizer(0.002).minimize(d_loss, var_list=d_vars)\n",
    "    g_opt = tf.train.AdamOptimizer(0.002).minimize(g_loss, var_list=g_vars)\n",
    "    \n",
    "    return d_opt, g_opt"
   ]
  },
  {
   "cell_type": "code",
   "execution_count": 11,
   "metadata": {
    "collapsed": false
   },
   "outputs": [
    {
     "name": "stdout",
     "output_type": "stream",
     "text": [
      "(1, 4, 4, 1)\n"
     ]
    }
   ],
   "source": [
    "# testing down_sampling\n",
    "\n",
    "img = mnist.train.next_batch(1)[0]\n",
    "img = img.reshape((1, 28, 28, 1))\n",
    "img = down_sampling(img)\n",
    "print(img.shape)"
   ]
  },
  {
   "cell_type": "markdown",
   "metadata": {},
   "source": [
    "### Training "
   ]
  },
  {
   "cell_type": "code",
   "execution_count": 16,
   "metadata": {
    "collapsed": false
   },
   "outputs": [
    {
     "name": "stdout",
     "output_type": "stream",
     "text": [
      "epoch 0, d: 1.1158, g: 0.7834\n",
      "epoch 1, d: 1.3309, g: 0.7690\n",
      "epoch 2, d: 1.3571, g: 0.6780\n",
      "epoch 3, d: 1.3758, g: 0.7061\n",
      "epoch 4, d: 1.3194, g: 0.7396\n",
      "epoch 5, d: 1.3339, g: 0.7541\n",
      "epoch 6, d: 1.3254, g: 0.7345\n",
      "epoch 7, d: 1.3513, g: 0.7217\n",
      "epoch 8, d: 1.3389, g: 0.7389\n",
      "epoch 9, d: 1.3775, g: 0.7161\n",
      "epoch 10, d: 1.4074, g: 0.6758\n",
      "epoch 11, d: 1.4004, g: 0.6828\n",
      "epoch 12, d: 1.3639, g: 0.7071\n",
      "epoch 13, d: 1.3937, g: 0.7003\n",
      "epoch 14, d: 1.3896, g: 0.6829\n",
      "epoch 15, d: 1.3600, g: 0.7175\n",
      "epoch 16, d: 1.3665, g: 0.7188\n",
      "epoch 17, d: 1.3870, g: 0.6975\n",
      "epoch 18, d: 1.3641, g: 0.7083\n",
      "epoch 19, d: 1.3980, g: 0.6762\n"
     ]
    }
   ],
   "source": [
    "tf.reset_default_graph()\n",
    "batch_size = 50\n",
    "x, z = define_inputs(batch_size)\n",
    "d_loss, g_loss = losses(x, z, batch_size)\n",
    "d_opt, g_opt = opt(d_loss, g_loss)\n",
    "\n",
    "epochs = 20\n",
    "samples = []\n",
    "\n",
    "with tf.Session() as sess:\n",
    "    sess.run(tf.global_variables_initializer())\n",
    "    for e in range(epochs):\n",
    "        for i in range(500):\n",
    "            batch = mnist.train.next_batch(batch_size)\n",
    "            \n",
    "            # get image and reshape \n",
    "            batch_imgs = batch[0].reshape((batch_size, 28, 28, 1))\n",
    "            batch_imgs = batch_imgs*2 - 1\n",
    "\n",
    "            # random noise for z\n",
    "            batch_z = np.random.uniform(-1, 1, size=(batch_size, 100))\n",
    "            \n",
    "            # run opts\n",
    "            sess.run(d_opt, feed_dict={x: batch_imgs, z: batch_z})\n",
    "            sess.run(g_opt, feed_dict={z: batch_z})\n",
    "        \n",
    "        # At the end of each epoch, get the losses and print them out\n",
    "        train_loss_d = sess.run(d_loss, {z: batch_z, x: batch_imgs})\n",
    "        train_loss_g = g_loss.eval({z: batch_z})\n",
    "        \n",
    "        print(\"epoch {0}, d: {1:.4f}, g: {2:.4f}\".format(e, train_loss_d, train_loss_g))\n",
    "        \n",
    "    sample_zs = np.random.uniform(-1, 1, size=(50, 100))\n",
    "    gen_samples = sess.run(generator(z, 50, reuse=True), \n",
    "                          feed_dict={z:sample_zs})\n",
    "    samples.append(gen_samples)\n",
    "    "
   ]
  },
  {
   "cell_type": "code",
   "execution_count": null,
   "metadata": {
    "collapsed": false
   },
   "outputs": [],
   "source": [
    "b = mnist.train.next_batch(1)\n",
    "print(b[0].shape)\n",
    "k = b[0].reshape((1, 28, 28, 1))"
   ]
  },
  {
   "cell_type": "code",
   "execution_count": 102,
   "metadata": {
    "collapsed": false
   },
   "outputs": [
    {
     "data": {
      "image/png": "[encoded data removed]",
      "text/plain": [
       "<matplotlib.figure.Figure at 0x12896af28>"
      ]
     },
     "metadata": {},
     "output_type": "display_data"
    }
   ],
   "source": [
    "# generated imgs\n",
    "kk = samples[0]\n",
    "sample_img = kk[1][16]\n",
    "img = sample_img[:, :, 0]\n",
    "plt.imshow(img, cmap=\"gray\")\n",
    "plt.show()"
   ]
  },
  {
   "cell_type": "code",
   "execution_count": 110,
   "metadata": {
    "collapsed": false
   },
   "outputs": [
    {
     "data": {
      "image/png": "[encoded data removed]",
      "text/plain": [
       "<matplotlib.figure.Figure at 0x12913d2b0>"
      ]
     },
     "metadata": {},
     "output_type": "display_data"
    }
   ],
   "source": [
    "# real imgs\n",
    "sample_img = down_sampling(\n",
    "    mnist.train.next_batch(1)[0].reshape((1, 28, 28, 1)))\n",
    "img = sample_img[0, :, :, 0]\n",
    "processed = None\n",
    "with tf.Session() as sess:\n",
    "    processed = sess.run(img)\n",
    "plt.imshow(processed, cmap=\"gray\")\n",
    "plt.show()"
   ]
  },
  {
   "cell_type": "code",
   "execution_count": null,
   "metadata": {
    "collapsed": true
   },
   "outputs": [],
   "source": []
  },
  {
   "cell_type": "code",
   "execution_count": null,
   "metadata": {
    "collapsed": true
   },
   "outputs": [],
   "source": []
  }
 ],
 "metadata": {
  "anaconda-cloud": {},
  "kernelspec": {
   "display_name": "Python [conda root]",
   "language": "python",
   "name": "conda-root-py"
  },
  "language_info": {
   "codemirror_mode": {
    "name": "ipython",
    "version": 3
   },
   "file_extension": ".py",
   "mimetype": "text/x-python",
   "name": "python",
   "nbconvert_exporter": "python",
   "pygments_lexer": "ipython3",
   "version": "3.5.2"
  }
 },
 "nbformat": 4,
 "nbformat_minor": 1
}
