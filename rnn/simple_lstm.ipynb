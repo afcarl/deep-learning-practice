{
 "cells": [
  {
   "cell_type": "markdown",
   "metadata": {},
   "source": [
    "# LSTM "
   ]
  },
  {
   "cell_type": "markdown",
   "metadata": {},
   "source": [
    "Solve MNIST problem using one layer LSTM"
   ]
  },
  {
   "cell_type": "code",
   "execution_count": 1,
   "metadata": {
    "collapsed": false
   },
   "outputs": [],
   "source": [
    "import tensorflow as tf\n",
    "import numpy as np\n",
    "import matplotlib.pyplot as plt\n",
    "from tensorflow.contrib.rnn import BasicRNNCell, BasicLSTMCell\n",
    "from tensorflow.contrib import rnn "
   ]
  },
  {
   "cell_type": "markdown",
   "metadata": {},
   "source": [
    "### Read MNIST dataset"
   ]
  },
  {
   "cell_type": "code",
   "execution_count": 2,
   "metadata": {
    "collapsed": false
   },
   "outputs": [
    {
     "name": "stdout",
     "output_type": "stream",
     "text": [
      "Extracting ../MNIST_data/train-images-idx3-ubyte.gz\n",
      "Extracting ../MNIST_data/train-labels-idx1-ubyte.gz\n",
      "Extracting ../MNIST_data/t10k-images-idx3-ubyte.gz\n",
      "Extracting ../MNIST_data/t10k-labels-idx1-ubyte.gz\n"
     ]
    }
   ],
   "source": [
    "from tensorflow.examples.tutorials.mnist import input_data\n",
    "mnist = input_data.read_data_sets(\"../MNIST_data/\", one_hot=True)"
   ]
  },
  {
   "cell_type": "markdown",
   "metadata": {},
   "source": [
    "### Define Hyperparameters"
   ]
  },
  {
   "cell_type": "code",
   "execution_count": 3,
   "metadata": {
    "collapsed": true
   },
   "outputs": [],
   "source": [
    "learning_rate = 0.001\n",
    "n_classes = 10\n",
    "batch_size = 100\n",
    "lstm_size = 512\n",
    "num_layers = 3"
   ]
  },
  {
   "cell_type": "markdown",
   "metadata": {},
   "source": [
    "### Define placeholders "
   ]
  },
  {
   "cell_type": "code",
   "execution_count": 4,
   "metadata": {
    "collapsed": true
   },
   "outputs": [],
   "source": [
    "# input image placeholder\n",
    "x = tf.placeholder(tf.float32, [None, 28, 28])\n",
    "x_unstack = tf.unstack(x, num=28, axis=1)\n",
    "# input label placeholder\n",
    "y_ = tf.placeholder(tf.float32, [None, n_classes])\n",
    "# keep prob for dropout\n",
    "keep_prob = tf.placeholder(tf.float32, shape=())"
   ]
  },
  {
   "cell_type": "markdown",
   "metadata": {},
   "source": [
    "### Define LSTM cell "
   ]
  },
  {
   "cell_type": "code",
   "execution_count": 5,
   "metadata": {
    "collapsed": false
   },
   "outputs": [],
   "source": [
    "def build_cell(lstm_size, keep_prob):\n",
    "    lstm = BasicLSTMCell(lstm_size)\n",
    "    # adding dropout to cell \n",
    "    lstm = tf.contrib.rnn.DropoutWrapper(lstm, output_keep_prob=keep_prob)\n",
    "    return lstm"
   ]
  },
  {
   "cell_type": "markdown",
   "metadata": {},
   "source": [
    "### Define Multi-cell lstm"
   ]
  },
  {
   "cell_type": "code",
   "execution_count": 6,
   "metadata": {
    "collapsed": true
   },
   "outputs": [],
   "source": [
    "def build_multi_layer_lstm(lstm_size, num_layers, batch_size, keep_prob):\n",
    "    cells = [build_cell(lstm_size, keep_prob) for _ in range(num_layers)]\n",
    "    multi_cell = tf.contrib.rnn.MultiRNNCell(cells=cells)\n",
    "    initial_state = multi_cell.zero_state(batch_size, tf.float32)\n",
    "    \n",
    "    return multi_cell, initial_state"
   ]
  },
  {
   "cell_type": "markdown",
   "metadata": {},
   "source": [
    "### Define Network"
   ]
  },
  {
   "cell_type": "code",
   "execution_count": 7,
   "metadata": {
    "collapsed": false
   },
   "outputs": [],
   "source": [
    "lstm, init_state = build_multi_layer_lstm(lstm_size, num_layers, batch_size, keep_prob)"
   ]
  },
  {
   "cell_type": "code",
   "execution_count": 8,
   "metadata": {
    "collapsed": false
   },
   "outputs": [],
   "source": [
    "out_weights=tf.Variable(tf.random_normal([lstm_size, n_classes]))\n",
    "out_bias=tf.Variable(tf.random_normal([n_classes]))"
   ]
  },
  {
   "cell_type": "code",
   "execution_count": 9,
   "metadata": {
    "collapsed": false
   },
   "outputs": [],
   "source": [
    "outputs, _ = rnn.static_rnn(cell=lstm, inputs=x_unstack, initial_state=init_state, dtype=tf.float32)"
   ]
  },
  {
   "cell_type": "code",
   "execution_count": 10,
   "metadata": {
    "collapsed": false
   },
   "outputs": [],
   "source": [
    "y = tf.matmul(outputs[-1], out_weights) + out_bias"
   ]
  },
  {
   "cell_type": "code",
   "execution_count": 11,
   "metadata": {
    "collapsed": false
   },
   "outputs": [],
   "source": [
    "#loss_function\n",
    "loss=tf.reduce_mean(tf.nn.softmax_cross_entropy_with_logits(\n",
    "        logits=y,labels=y_))\n",
    "#optimization\n",
    "opt=tf.train.AdamOptimizer(learning_rate=learning_rate).minimize(loss)\n",
    "\n",
    "#model evaluation\n",
    "correct_prediction=tf.equal(tf.argmax(y,1),tf.argmax(y_,1))\n",
    "accuracy=tf.reduce_mean(tf.cast(correct_prediction,tf.float32))"
   ]
  },
  {
   "cell_type": "markdown",
   "metadata": {},
   "source": [
    "### Training "
   ]
  },
  {
   "cell_type": "code",
   "execution_count": 14,
   "metadata": {
    "collapsed": false
   },
   "outputs": [
    {
     "name": "stdout",
     "output_type": "stream",
     "text": [
      "For iter 1, Accuracy: 0.23999999463558197\n",
      "For iter 50, Accuracy: 0.6499999761581421\n",
      "For iter 100, Accuracy: 0.8799999952316284\n",
      "For iter 150, Accuracy: 0.9200000166893005\n",
      "For iter 200, Accuracy: 0.949999988079071\n",
      "For iter 250, Accuracy: 0.9399999976158142\n",
      "For iter 300, Accuracy: 0.9100000262260437\n",
      "For iter 350, Accuracy: 0.9300000071525574\n",
      "For iter 400, Accuracy: 0.9700000286102295\n",
      "For iter 450, Accuracy: 0.9599999785423279\n",
      "For iter 500, Accuracy: 0.9100000262260437\n",
      "For iter 550, Accuracy: 0.9599999785423279\n",
      "For iter 600, Accuracy: 0.949999988079071\n",
      "For iter 650, Accuracy: 0.9900000095367432\n",
      "For iter 700, Accuracy: 0.9800000190734863\n",
      "For iter 750, Accuracy: 0.949999988079071\n",
      "For iter 800, Accuracy: 1.0\n",
      "For iter 850, Accuracy: 0.9700000286102295\n",
      "For iter 900, Accuracy: 0.9700000286102295\n",
      "For iter 950, Accuracy: 0.9700000286102295\n",
      "For iter 1000, Accuracy: 0.9900000095367432\n",
      "For iter 1050, Accuracy: 0.9700000286102295\n",
      "For iter 1100, Accuracy: 1.0\n",
      "For iter 1150, Accuracy: 0.9800000190734863\n",
      "For iter 1200, Accuracy: 1.0\n",
      "For iter 1250, Accuracy: 0.9700000286102295\n",
      "For iter 1300, Accuracy: 1.0\n",
      "For iter 1350, Accuracy: 0.9900000095367432\n",
      "For iter 1400, Accuracy: 1.0\n",
      "For iter 1450, Accuracy: 0.9900000095367432\n",
      "For iter 1500, Accuracy: 0.9900000095367432\n",
      "Testing Accuracy: 1.0\n"
     ]
    }
   ],
   "source": [
    "#initialize variables\n",
    "init=tf.global_variables_initializer()\n",
    "with tf.Session() as sess:\n",
    "    sess.run(init)\n",
    "    for i in range(1500):\n",
    "        \n",
    "        batch_x, batch_y = mnist.train.next_batch(batch_size)\n",
    "        batch_x = batch_x.reshape((-1, 28, 28))\n",
    "        sess.run(opt, feed_dict={x: batch_x, y_: batch_y, keep_prob: 0.5})\n",
    "\n",
    "        if (i+1)%50 == 0 or i==0:\n",
    "            acc = sess.run(accuracy, feed_dict={x: batch_x, y_: batch_y, keep_prob: 1})\n",
    "            los = sess.run(loss, feed_dict={x: batch_x, y_: batch_y, keep_prob: 1})\n",
    "            print(\"For iter {0}, Accuracy: {1}\".format(i+1, acc))\n",
    "            \n",
    "    #calculating test accuracy\n",
    "    test_x, test_y = mnist.test.next_batch(batch_size)\n",
    "    test_x = test_x.reshape((-1, 28, 28))\n",
    "    test_acc = sess.run(accuracy, feed_dict={x: test_x, y_: test_y, keep_prob: 1})\n",
    "    print(\"Testing Accuracy: {0:.4}\".format(test_acc))"
   ]
  },
  {
   "cell_type": "code",
   "execution_count": null,
   "metadata": {
    "collapsed": true
   },
   "outputs": [],
   "source": []
  }
 ],
 "metadata": {
  "anaconda-cloud": {},
  "kernelspec": {
   "display_name": "Python [conda root]",
   "language": "python",
   "name": "conda-root-py"
  },
  "language_info": {
   "codemirror_mode": {
    "name": "ipython",
    "version": 3
   },
   "file_extension": ".py",
   "mimetype": "text/x-python",
   "name": "python",
   "nbconvert_exporter": "python",
   "pygments_lexer": "ipython3",
   "version": "3.5.2"
  }
 },
 "nbformat": 4,
 "nbformat_minor": 1
}
